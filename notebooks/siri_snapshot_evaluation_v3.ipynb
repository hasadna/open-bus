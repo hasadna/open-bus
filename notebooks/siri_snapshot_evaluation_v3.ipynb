{
 "cells": [
  {
   "cell_type": "markdown",
   "metadata": {},
   "source": [
    "Nov.10 2020, Adi Watzman. See v2 for history.  \n",
    "\n",
    "* (V2 - compare Nov.9, >14PM and export our feedback to send MoT. Large differences - see summary: https://docs.google.com/document/d/1T7FYQaXrROmUB7RN-jAlV1MTPt1vifTotRRs3JOHWw0/edit?usp=sharing.)\n",
    "* MoT asked to compare more recent dates as 2.8 went through improvements.\n",
    "* V3 - compare a more recent date XXXXX and export our feedback to send MoT.\n",
    "\n",
    "\n",
    "======  \n",
    "Goal:  \n",
    "Parse 1 day of data to compare Siri 2.7 to 2.8 versions.  \n",
    "2.7 is the current \"production\" version for us, base on siri_retreiver Java code that queries MoT's servers for all last stops.   \n",
    "2.8 is a new version, that allows MUCH simpler query, and get all currently driving buses without any quering hack.   \n",
    "However, we want to make sure we get the same data with both versions before we switch to 2.8 for \"production\".\n",
    "\n",
    "The data was manually downloaded from our S3 server.\n"
   ]
  },
  {
   "cell_type": "code",
   "execution_count": 1,
   "metadata": {
    "ExecuteTime": {
     "end_time": "2021-02-16T17:39:11.280693Z",
     "start_time": "2021-02-16T17:39:11.185965Z"
    }
   },
   "outputs": [],
   "source": [
    "%load_ext autoreload\n",
    "%autoreload 2"
   ]
  },
  {
   "cell_type": "code",
   "execution_count": 2,
   "metadata": {
    "ExecuteTime": {
     "end_time": "2021-02-16T17:39:14.450025Z",
     "start_time": "2021-02-16T17:39:12.628550Z"
    },
    "colab": {
     "base_uri": "https://localhost:8080/",
     "height": 71
    },
    "colab_type": "code",
    "id": "ZqtCsciJ4IUX",
    "outputId": "95cc64ba-73ee-435b-92db-6d105903da06"
   },
   "outputs": [],
   "source": [
    "import gzip\n",
    "import json\n",
    "import matplotlib.pyplot as plt\n",
    "import numpy as np\n",
    "from os.path import join\n",
    "import pandas as pd\n",
    "import seaborn as sns\n",
    "\n",
    "sns.set_context('notebook')\n",
    "sns.set_style('white')"
   ]
  },
  {
   "cell_type": "code",
   "execution_count": 3,
   "metadata": {
    "ExecuteTime": {
     "end_time": "2021-02-16T17:39:14.471336Z",
     "start_time": "2021-02-16T17:39:14.451758Z"
    }
   },
   "outputs": [],
   "source": [
    "import datetime as dt"
   ]
  },
  {
   "cell_type": "code",
   "execution_count": 4,
   "metadata": {
    "ExecuteTime": {
     "end_time": "2021-02-16T17:48:46.865971Z",
     "start_time": "2021-02-16T17:48:46.823246Z"
    }
   },
   "outputs": [],
   "source": [
    "data_dir = '/Users/awatzman/Documents/OpenBusDocuments/data/' \\\n",
    "           '2020-10-12_compare_siri_2.7_2.8'\n",
    "siri_27_dir = join(data_dir, 'siri_27_2021-02-14') # csv.gz files\n",
    "siri_28_dir = join(data_dir, 'siri_28_2021-02-14') # tar.gz file per hour, each with ~120 json.gz files\n"
   ]
  },
  {
   "cell_type": "code",
   "execution_count": 5,
   "metadata": {
    "ExecuteTime": {
     "end_time": "2021-02-16T17:48:49.667872Z",
     "start_time": "2021-02-16T17:48:49.332747Z"
    }
   },
   "outputs": [
    {
     "name": "stdout",
     "output_type": "stream",
     "text": [
      "      18\r\n"
     ]
    }
   ],
   "source": [
    "! ls $siri_27_dir | grep csv | wc -l"
   ]
  },
  {
   "cell_type": "code",
   "execution_count": 6,
   "metadata": {
    "ExecuteTime": {
     "end_time": "2021-02-16T17:48:50.457569Z",
     "start_time": "2021-02-16T17:48:50.130539Z"
    }
   },
   "outputs": [
    {
     "name": "stdout",
     "output_type": "stream",
     "text": [
      "      24\r\n"
     ]
    }
   ],
   "source": [
    "! ls $siri_28_dir | grep tar | wc -l"
   ]
  },
  {
   "cell_type": "code",
   "execution_count": 7,
   "metadata": {
    "ExecuteTime": {
     "end_time": "2021-02-16T17:48:55.091684Z",
     "start_time": "2021-02-16T17:48:54.755711Z"
    }
   },
   "outputs": [
    {
     "name": "stdout",
     "output_type": "stream",
     "text": [
      "2021-02-14_00.tar.gz\r\n",
      "2021-02-14_01.tar.gz\r\n",
      "2021-02-14_02.tar.gz\r\n",
      "2021-02-14_03.tar.gz\r\n",
      "2021-02-14_04.tar.gz\r\n",
      "2021-02-14_05.tar.gz\r\n",
      "2021-02-14_06.tar.gz\r\n",
      "2021-02-14_07.tar.gz\r\n",
      "2021-02-14_08.tar.gz\r\n",
      "2021-02-14_09.tar.gz\r\n",
      "2021-02-14_10.tar.gz\r\n",
      "2021-02-14_11.tar.gz\r\n",
      "2021-02-14_12.tar.gz\r\n",
      "2021-02-14_13.tar.gz\r\n",
      "2021-02-14_14.tar.gz\r\n",
      "2021-02-14_15.tar.gz\r\n",
      "2021-02-14_16.tar.gz\r\n",
      "2021-02-14_17.tar.gz\r\n",
      "2021-02-14_18.tar.gz\r\n",
      "2021-02-14_19.tar.gz\r\n",
      "2021-02-14_20.tar.gz\r\n",
      "2021-02-14_21.tar.gz\r\n",
      "2021-02-14_22.tar.gz\r\n",
      "2021-02-14_23.tar.gz\r\n"
     ]
    }
   ],
   "source": [
    "! ls $siri_28_dir | grep tar "
   ]
  },
  {
   "cell_type": "markdown",
   "metadata": {},
   "source": [
    "# Read 2.8 files"
   ]
  },
  {
   "cell_type": "code",
   "execution_count": 8,
   "metadata": {
    "ExecuteTime": {
     "end_time": "2021-02-16T17:49:07.967424Z",
     "start_time": "2021-02-16T17:49:07.940596Z"
    }
   },
   "outputs": [],
   "source": [
    "from siri_parser import read_siri28_file, read_siri28_files, SIRI28_TYPES"
   ]
  },
  {
   "cell_type": "code",
   "execution_count": 23,
   "metadata": {
    "ExecuteTime": {
     "end_time": "2021-02-16T18:25:19.445210Z",
     "start_time": "2021-02-16T18:11:45.207126Z"
    },
    "scrolled": true
   },
   "outputs": [
    {
     "name": "stdout",
     "output_type": "stream",
     "text": [
      "/Users/awatzman/Documents/OpenBusDocuments/data/2020-10-12_compare_siri_2.7_2.8/siri_28_2021-02-14/22/siri_snap_normal_2021-02-14T220901.json Expecting value: line 1 column 1 (char 0)\n",
      "CPU times: user 13min 16s, sys: 17 s, total: 13min 33s\n",
      "Wall time: 13min 34s\n"
     ]
    },
    {
     "data": {
      "text/plain": [
       "(9665344, 17)"
      ]
     },
     "execution_count": 23,
     "metadata": {},
     "output_type": "execute_result"
    }
   ],
   "source": [
    "# %%time\n",
    "# df_28_day = read_siri28_files(siri_28_dir, max_files=None, suf='.json')\n",
    "# df_28_day.shape"
   ]
  },
  {
   "cell_type": "code",
   "execution_count": 24,
   "metadata": {
    "ExecuteTime": {
     "end_time": "2021-02-16T18:25:21.445464Z",
     "start_time": "2021-02-16T18:25:19.446911Z"
    }
   },
   "outputs": [],
   "source": [
    "# df_28_day.to_feather('df_28_20210214.feather')"
   ]
  },
  {
   "cell_type": "code",
   "execution_count": 25,
   "metadata": {
    "ExecuteTime": {
     "end_time": "2021-02-16T18:25:23.264737Z",
     "start_time": "2021-02-16T18:25:21.446946Z"
    }
   },
   "outputs": [
    {
     "data": {
      "text/plain": [
       "(9665344, 17)"
      ]
     },
     "execution_count": 25,
     "metadata": {},
     "output_type": "execute_result"
    }
   ],
   "source": [
    "df_28_day = pd.read_feather('df_28_20210214.feather')\n",
    "df_28_day.shape"
   ]
  },
  {
   "cell_type": "code",
   "execution_count": 26,
   "metadata": {
    "ExecuteTime": {
     "end_time": "2021-02-16T19:30:32.154779Z",
     "start_time": "2021-02-16T19:30:31.572075Z"
    }
   },
   "outputs": [
    {
     "data": {
      "text/plain": [
       "recorded_at_time               datetime64[ns, pytz.FixedOffset(120)]\n",
       "origin_aimed_departure_time    datetime64[ns, pytz.FixedOffset(120)]\n",
       "response_timestamp             datetime64[ns, pytz.FixedOffset(120)]\n",
       "dtype: object"
      ]
     },
     "execution_count": 26,
     "metadata": {},
     "output_type": "execute_result"
    }
   ],
   "source": [
    "dt_cols = [col for col in df_28_day.columns \n",
    "           if pd.api.types.is_datetime64_ns_dtype(df_28_day[col])]\n",
    "df_28_day[dt_cols].dtypes"
   ]
  },
  {
   "cell_type": "code",
   "execution_count": 27,
   "metadata": {
    "ExecuteTime": {
     "end_time": "2021-02-16T19:30:48.519432Z",
     "start_time": "2021-02-16T19:30:47.992127Z"
    }
   },
   "outputs": [],
   "source": [
    "# remove timezone data, keep the time as-is to compare to 2.7 that has no timezone data\n",
    "for col in dt_cols:\n",
    "    df_28_day[col] = df_28_day[col].dt.tz_localize(None)"
   ]
  },
  {
   "cell_type": "code",
   "execution_count": 28,
   "metadata": {
    "ExecuteTime": {
     "end_time": "2021-02-16T19:30:54.612340Z",
     "start_time": "2021-02-16T19:30:54.595665Z"
    }
   },
   "outputs": [
    {
     "data": {
      "text/plain": [
       "recorded_at_time               datetime64[ns]\n",
       "line_ref                                int64\n",
       "data_frame_ref                         object\n",
       "dated_vehicle_journey_ref               int64\n",
       "operator_ref                         category\n",
       "origin_aimed_departure_time    datetime64[ns]\n",
       "longitude                             float32\n",
       "latitude                              float32\n",
       "bearing                                 int64\n",
       "velocity                                int64\n",
       "vehicle_ref                             int64\n",
       "stop_point_ref                          int64\n",
       "order                                   int64\n",
       "distance_from_stop                      int64\n",
       "_version                             category\n",
       "response_timestamp             datetime64[ns]\n",
       "status                               category\n",
       "dtype: object"
      ]
     },
     "execution_count": 28,
     "metadata": {},
     "output_type": "execute_result"
    }
   ],
   "source": [
    "df_28_day.dtypes"
   ]
  },
  {
   "cell_type": "code",
   "execution_count": 29,
   "metadata": {
    "ExecuteTime": {
     "end_time": "2021-02-16T19:31:01.829692Z",
     "start_time": "2021-02-16T19:31:00.393919Z"
    }
   },
   "outputs": [
    {
     "data": {
      "text/plain": [
       "(96027, 17)"
      ]
     },
     "execution_count": 29,
     "metadata": {},
     "output_type": "execute_result"
    }
   ],
   "source": [
    "# number of rides:\n",
    "# By: agency, route, bus, start_time\n",
    "df_28_day.drop_duplicates([\n",
    "    'operator_ref', 'line_ref', 'vehicle_ref', \n",
    "    'origin_aimed_departure_time'], keep='first').shape"
   ]
  },
  {
   "cell_type": "code",
   "execution_count": 30,
   "metadata": {
    "ExecuteTime": {
     "end_time": "2021-02-16T19:31:08.190460Z",
     "start_time": "2021-02-16T19:31:05.573851Z"
    }
   },
   "outputs": [
    {
     "data": {
      "text/plain": [
       "(96027,)"
      ]
     },
     "execution_count": 30,
     "metadata": {},
     "output_type": "execute_result"
    }
   ],
   "source": [
    "# number of rides without 0:\n",
    "# By: agency, route, bus, start_time\n",
    "df_28_rides = df_28_day[df_28_day.latitude != 0].groupby([\n",
    "    'operator_ref', 'line_ref', 'vehicle_ref', \n",
    "    'origin_aimed_departure_time']).size()\n",
    "\n",
    "# df_28_rides = df_28_day2[df_28_day2.latitude != 0].drop_duplicates([\n",
    "#     'operator_ref', 'line_ref', 'vehicle_ref', \n",
    "#     'origin_aimed_departure_time'], keep='first')\n",
    "df_28_rides.shape"
   ]
  },
  {
   "cell_type": "markdown",
   "metadata": {},
   "source": [
    "2.8 does not have entire 0 rides."
   ]
  },
  {
   "cell_type": "code",
   "execution_count": 31,
   "metadata": {
    "ExecuteTime": {
     "end_time": "2021-02-16T19:31:16.200451Z",
     "start_time": "2021-02-16T19:31:12.892323Z"
    }
   },
   "outputs": [
    {
     "data": {
      "text/plain": [
       "(7066388, 17)"
      ]
     },
     "execution_count": 31,
     "metadata": {},
     "output_type": "execute_result"
    }
   ],
   "source": [
    "# number of responses deduped (GPS points) without 0:\n",
    "# By: agency, route, bus, start_time, recorded_at_time\n",
    "df_28_day_dedup = df_28_day[df_28_day.latitude != 0].drop_duplicates([\n",
    "    'operator_ref', 'line_ref', 'vehicle_ref', \n",
    "    'origin_aimed_departure_time', 'recorded_at_time'], \n",
    "    keep='first')\n",
    "df_28_day_dedup.shape"
   ]
  },
  {
   "cell_type": "code",
   "execution_count": 35,
   "metadata": {
    "ExecuteTime": {
     "end_time": "2021-02-16T19:33:14.231703Z",
     "start_time": "2021-02-16T19:33:13.467593Z"
    }
   },
   "outputs": [
    {
     "data": {
      "text/plain": [
       "(96027, 5)"
      ]
     },
     "execution_count": 35,
     "metadata": {},
     "output_type": "execute_result"
    }
   ],
   "source": [
    "df_28_final_rides = df_28_day_dedup.groupby([\n",
    "    'operator_ref', 'line_ref', 'vehicle_ref', \n",
    "    'origin_aimed_departure_time'])\\\n",
    "    .recorded_at_time.count()\\\n",
    "    .rename('points_cnt').reset_index(drop=False)\n",
    "df_28_final_rides.shape"
   ]
  },
  {
   "cell_type": "markdown",
   "metadata": {},
   "source": [
    "# Read 2.7 files"
   ]
  },
  {
   "cell_type": "code",
   "execution_count": 36,
   "metadata": {
    "ExecuteTime": {
     "end_time": "2021-02-16T19:33:27.175894Z",
     "start_time": "2021-02-16T19:33:27.159379Z"
    }
   },
   "outputs": [],
   "source": [
    "from siri_parser import read_siri27_files"
   ]
  },
  {
   "cell_type": "code",
   "execution_count": 37,
   "metadata": {
    "ExecuteTime": {
     "end_time": "2021-02-16T19:33:44.225244Z",
     "start_time": "2021-02-16T19:33:29.407845Z"
    }
   },
   "outputs": [
    {
     "name": "stdout",
     "output_type": "stream",
     "text": [
      "CPU times: user 21.1 s, sys: 1.74 s, total: 22.9 s\n",
      "Wall time: 14.8 s\n"
     ]
    }
   ],
   "source": [
    "%%time\n",
    "df_27_day = read_siri27_files(siri_27_dir, max_files=None)"
   ]
  },
  {
   "cell_type": "code",
   "execution_count": 38,
   "metadata": {
    "ExecuteTime": {
     "end_time": "2021-02-16T19:33:49.993346Z",
     "start_time": "2021-02-16T19:33:49.975262Z"
    }
   },
   "outputs": [
    {
     "data": {
      "text/plain": [
       "(4673756, 14)"
      ]
     },
     "execution_count": 38,
     "metadata": {},
     "output_type": "execute_result"
    }
   ],
   "source": [
    "df_27_day.shape"
   ]
  },
  {
   "cell_type": "code",
   "execution_count": 39,
   "metadata": {
    "ExecuteTime": {
     "end_time": "2021-02-16T19:34:01.640068Z",
     "start_time": "2021-02-16T19:34:01.619499Z"
    }
   },
   "outputs": [
    {
     "data": {
      "text/plain": [
       "Index(['planned_start_dt', 'predicted_end_dt', 'dt_recorded', 'timestamp',\n",
       "       'agency_id', 'route_id', 'route_short_name', 'service_id', 'bus_id',\n",
       "       'lat', 'lon', 'stop_point_ref', 'date', 'num_duplicates'],\n",
       "      dtype='object')"
      ]
     },
     "execution_count": 39,
     "metadata": {},
     "output_type": "execute_result"
    }
   ],
   "source": [
    "df_27_day.columns"
   ]
  },
  {
   "cell_type": "code",
   "execution_count": 40,
   "metadata": {
    "ExecuteTime": {
     "end_time": "2021-02-16T19:34:03.078454Z",
     "start_time": "2021-02-16T19:34:03.059201Z"
    }
   },
   "outputs": [
    {
     "data": {
      "text/plain": [
       "planned_start_dt    datetime64[ns]\n",
       "predicted_end_dt    datetime64[ns]\n",
       "dt_recorded         datetime64[ns]\n",
       "timestamp           datetime64[ns]\n",
       "agency_id                    int64\n",
       "route_id                     int64\n",
       "route_short_name            object\n",
       "service_id                   int64\n",
       "bus_id                       int64\n",
       "lat                        float32\n",
       "lon                        float32\n",
       "stop_point_ref               int64\n",
       "date                        object\n",
       "num_duplicates               int64\n",
       "dtype: object"
      ]
     },
     "execution_count": 40,
     "metadata": {},
     "output_type": "execute_result"
    }
   ],
   "source": [
    "df_27_day.dtypes"
   ]
  },
  {
   "cell_type": "code",
   "execution_count": 41,
   "metadata": {
    "ExecuteTime": {
     "end_time": "2021-02-16T19:34:11.628076Z",
     "start_time": "2021-02-16T19:34:10.597494Z"
    }
   },
   "outputs": [
    {
     "data": {
      "text/plain": [
       "(114425, 14)"
      ]
     },
     "execution_count": 41,
     "metadata": {},
     "output_type": "execute_result"
    }
   ],
   "source": [
    "# number of rides:\n",
    "# By: agency, route, bus, start_time\n",
    "df_27_day.drop_duplicates([\n",
    "    'agency_id', 'route_id', 'bus_id', \n",
    "    'planned_start_dt'], keep='first').shape"
   ]
  },
  {
   "cell_type": "code",
   "execution_count": 42,
   "metadata": {
    "ExecuteTime": {
     "end_time": "2021-02-16T19:34:29.928283Z",
     "start_time": "2021-02-16T19:34:29.025257Z"
    }
   },
   "outputs": [
    {
     "data": {
      "text/plain": [
       "(98733,)"
      ]
     },
     "execution_count": 42,
     "metadata": {},
     "output_type": "execute_result"
    }
   ],
   "source": [
    "# number of rides without 0:\n",
    "# By: agency, route, bus, start_time\n",
    "\n",
    "df_27_rides = df_27_day[df_27_day.lat != 0].groupby([\n",
    "    'agency_id', 'route_id', 'bus_id', \n",
    "    'planned_start_dt']).size()\n",
    "\n",
    "df_27_rides.shape"
   ]
  },
  {
   "cell_type": "code",
   "execution_count": 43,
   "metadata": {
    "ExecuteTime": {
     "end_time": "2021-02-16T19:34:55.667800Z",
     "start_time": "2021-02-16T19:34:54.212015Z"
    }
   },
   "outputs": [
    {
     "data": {
      "text/plain": [
       "(4224388, 14)"
      ]
     },
     "execution_count": 43,
     "metadata": {},
     "output_type": "execute_result"
    }
   ],
   "source": [
    "# number of responses deduped (GPS points), without 0:\n",
    "# By: agency, route, bus, start_time, recorded_at_time\n",
    "df_27_day_dedup = df_27_day[df_27_day.lat != 0].drop_duplicates([\n",
    "    'agency_id', 'route_id', 'bus_id', \n",
    "    'planned_start_dt', 'dt_recorded'], \n",
    "    keep='first')\n",
    "df_27_day_dedup.shape"
   ]
  },
  {
   "cell_type": "code",
   "execution_count": 44,
   "metadata": {
    "ExecuteTime": {
     "end_time": "2021-02-16T19:35:18.293691Z",
     "start_time": "2021-02-16T19:35:17.769214Z"
    }
   },
   "outputs": [
    {
     "data": {
      "text/plain": [
       "(98733, 5)"
      ]
     },
     "execution_count": 44,
     "metadata": {},
     "output_type": "execute_result"
    }
   ],
   "source": [
    "df_27_final_rides = df_27_day_dedup.groupby([\n",
    "    'agency_id', 'route_id', 'bus_id', 'planned_start_dt'])\\\n",
    "    .dt_recorded.count().rename('points_cnt').reset_index(drop=False)\n",
    "df_27_final_rides.shape"
   ]
  },
  {
   "cell_type": "markdown",
   "metadata": {},
   "source": [
    "# Compare versions"
   ]
  },
  {
   "cell_type": "markdown",
   "metadata": {},
   "source": [
    "## Data availability and time matching"
   ]
  },
  {
   "cell_type": "code",
   "execution_count": 45,
   "metadata": {
    "ExecuteTime": {
     "end_time": "2021-02-16T19:35:28.618439Z",
     "start_time": "2021-02-16T19:35:28.603070Z"
    }
   },
   "outputs": [],
   "source": [
    "import os.path\n",
    "from pathlib import Path"
   ]
  },
  {
   "cell_type": "code",
   "execution_count": 48,
   "metadata": {
    "ExecuteTime": {
     "end_time": "2021-02-16T19:36:30.642817Z",
     "start_time": "2021-02-16T19:36:30.299579Z"
    }
   },
   "outputs": [
    {
     "name": "stdout",
     "output_type": "stream",
     "text": [
      "2876\n"
     ]
    },
    {
     "data": {
      "image/png": "[encoded data removed]",
      "text/plain": [
       "<Figure size 432x288 with 1 Axes>"
      ]
     },
     "metadata": {
      "needs_background": "light"
     },
     "output_type": "display_data"
    }
   ],
   "source": [
    "# plot number of files per hour in 2.8 (should be ~120 files per hour)\n",
    "files_28 = [os.path.basename(x) for x in Path(siri_28_dir).rglob('*.json')]  # recursive search\n",
    "print(len(files_28))\n",
    "\n",
    "files_hour_28 = [x.split('-14T')[1].split('.')[0][:2] for x in files_28]\n",
    "pd.Series(files_hour_28).value_counts().sort_index().plot.bar()\n",
    "plt.show()\n"
   ]
  },
  {
   "cell_type": "code",
   "execution_count": 51,
   "metadata": {
    "ExecuteTime": {
     "end_time": "2021-02-16T19:37:35.853236Z",
     "start_time": "2021-02-16T19:37:35.171165Z"
    }
   },
   "outputs": [
    {
     "data": {
      "image/png": "[encoded data removed]",
      "text/plain": [
       "<Figure size 576x288 with 1 Axes>"
      ]
     },
     "metadata": {
      "needs_background": "light"
     },
     "output_type": "display_data"
    }
   ],
   "source": [
    "# Points per hour\n",
    "hour_27 = df_27_day_dedup.groupby(df_27_day_dedup.dt_recorded.dt.hour).size().rename('2.7')\n",
    "hour_28 = df_28_day_dedup.groupby(df_28_day_dedup.recorded_at_time.dt.hour).size().rename('2.8')\n",
    "\n",
    "hour_27.to_frame().join(hour_28).plot.bar(figsize=(8, 4))\n",
    "plt.title('GPS Points per hour 14/02/2021')\n",
    "plt.show()"
   ]
  },
  {
   "cell_type": "code",
   "execution_count": 52,
   "metadata": {
    "ExecuteTime": {
     "end_time": "2021-02-16T19:46:15.931536Z",
     "start_time": "2021-02-16T19:46:15.659756Z"
    }
   },
   "outputs": [
    {
     "data": {
      "image/png": "[encoded data removed]",
      "text/plain": [
       "<Figure size 432x288 with 1 Axes>"
      ]
     },
     "metadata": {
      "needs_background": "light"
     },
     "output_type": "display_data"
    }
   ],
   "source": [
    "(1 - (hour_28/hour_27)).plot.bar(figsize=(6, 4))\n",
    "plt.show()"
   ]
  },
  {
   "cell_type": "code",
   "execution_count": 53,
   "metadata": {
    "ExecuteTime": {
     "end_time": "2021-02-16T19:46:22.971973Z",
     "start_time": "2021-02-16T19:46:22.951601Z"
    }
   },
   "outputs": [
    {
     "data": {
      "text/plain": [
       "1.6727601725977823"
      ]
     },
     "execution_count": 53,
     "metadata": {},
     "output_type": "execute_result"
    }
   ],
   "source": [
    "hour_28.sum() / hour_27.sum()"
   ]
  },
  {
   "cell_type": "markdown",
   "metadata": {},
   "source": [
    "2.8 has more GPS points than 2.7 in most hours."
   ]
  },
  {
   "cell_type": "markdown",
   "metadata": {},
   "source": [
    "## GPS points comparison"
   ]
  },
  {
   "cell_type": "code",
   "execution_count": 54,
   "metadata": {
    "ExecuteTime": {
     "end_time": "2021-02-16T19:47:05.242785Z",
     "start_time": "2021-02-16T19:47:05.122074Z"
    }
   },
   "outputs": [],
   "source": [
    "# When grouping by agency\n",
    "agency_27 = df_27_day_dedup.groupby('agency_id').size().rename('2.7')\n",
    "agency_28 = df_28_day_dedup.groupby('operator_ref').size().rename('2.8')\n"
   ]
  },
  {
   "cell_type": "code",
   "execution_count": 59,
   "metadata": {
    "ExecuteTime": {
     "end_time": "2021-02-16T19:47:40.148964Z",
     "start_time": "2021-02-16T19:47:39.839081Z"
    }
   },
   "outputs": [
    {
     "data": {
      "image/png": "[encoded data removed]",
      "text/plain": [
       "<Figure size 576x288 with 1 Axes>"
      ]
     },
     "metadata": {
      "needs_background": "light"
     },
     "output_type": "display_data"
    }
   ],
   "source": [
    "agency_27.to_frame().join(agency_28).plot.bar(figsize=(8, 4))\n",
    "plt.title('GPS Points per agency 14/02/2021')\n",
    "\n",
    "plt.show()"
   ]
  },
  {
   "cell_type": "code",
   "execution_count": 60,
   "metadata": {
    "ExecuteTime": {
     "end_time": "2021-02-16T19:50:47.633851Z",
     "start_time": "2021-02-16T19:50:47.606232Z"
    },
    "collapsed": true
   },
   "outputs": [
    {
     "data": {
      "text/plain": [
       "98   -1.653846\n",
       "10   -1.020968\n",
       "42   -1.016846\n",
       "47   -1.015707\n",
       "44   -1.001181\n",
       "45   -0.989963\n",
       "50   -0.985619\n",
       "51   -0.985234\n",
       "24   -0.950291\n",
       "23   -0.839933\n",
       "16   -0.796893\n",
       "3    -0.775213\n",
       "6    -0.660614\n",
       "4    -0.652663\n",
       "25   -0.631471\n",
       "18   -0.615777\n",
       "32   -0.579101\n",
       "15   -0.562720\n",
       "31   -0.542488\n",
       "7    -0.531638\n",
       "14   -0.503967\n",
       "5    -0.467410\n",
       "8    -0.450949\n",
       "2          NaN\n",
       "91         NaN\n",
       "94         NaN\n",
       "97         NaN\n",
       "dtype: float64"
      ]
     },
     "execution_count": 60,
     "metadata": {},
     "output_type": "execute_result"
    }
   ],
   "source": [
    "(1 - (agency_28/agency_27)).sort_values()"
   ]
  },
  {
   "cell_type": "markdown",
   "metadata": {},
   "source": [
    "## Rides comparison"
   ]
  },
  {
   "cell_type": "code",
   "execution_count": 61,
   "metadata": {
    "ExecuteTime": {
     "end_time": "2021-02-16T19:51:23.223406Z",
     "start_time": "2021-02-16T19:51:23.202159Z"
    }
   },
   "outputs": [
    {
     "data": {
      "text/plain": [
       "(98733, 96027)"
      ]
     },
     "execution_count": 61,
     "metadata": {},
     "output_type": "execute_result"
    }
   ],
   "source": [
    "df_27_final_rides.shape[0], df_28_final_rides.shape[0]"
   ]
  },
  {
   "cell_type": "code",
   "execution_count": 62,
   "metadata": {
    "ExecuteTime": {
     "end_time": "2021-02-16T19:52:50.556881Z",
     "start_time": "2021-02-16T19:52:50.535039Z"
    }
   },
   "outputs": [
    {
     "data": {
      "text/plain": [
       "0.9725927501443287"
      ]
     },
     "execution_count": 62,
     "metadata": {},
     "output_type": "execute_result"
    }
   ],
   "source": [
    "df_28_final_rides.shape[0] / df_27_final_rides.shape[0]"
   ]
  },
  {
   "cell_type": "code",
   "execution_count": 63,
   "metadata": {
    "ExecuteTime": {
     "end_time": "2021-02-16T19:53:58.457431Z",
     "start_time": "2021-02-16T19:53:58.133248Z"
    }
   },
   "outputs": [
    {
     "data": {
      "image/png": "[encoded data removed]",
      "text/plain": [
       "<Figure size 432x288 with 1 Axes>"
      ]
     },
     "metadata": {
      "needs_background": "light"
     },
     "output_type": "display_data"
    }
   ],
   "source": [
    "# Points per hour\n",
    "hour_27_r = df_27_final_rides.groupby(\n",
    "    df_27_final_rides.planned_start_dt.dt.hour).size().rename('2.7')\n",
    "hour_28_r = df_28_final_rides.groupby(\n",
    "    df_28_final_rides.origin_aimed_departure_time.dt.hour)\\\n",
    "    .size().rename('2.8')\n",
    "\n",
    "hour_27_r.to_frame().join(hour_28_r).plot.bar(figsize=(6, 4))\n",
    "plt.title('Rides per hour 14/02/2021')\n",
    "plt.show()"
   ]
  },
  {
   "cell_type": "code",
   "execution_count": null,
   "metadata": {},
   "outputs": [],
   "source": []
  },
  {
   "cell_type": "code",
   "execution_count": null,
   "metadata": {},
   "outputs": [],
   "source": []
  },
  {
   "cell_type": "code",
   "execution_count": 64,
   "metadata": {
    "ExecuteTime": {
     "end_time": "2021-02-16T19:56:04.762374Z",
     "start_time": "2021-02-16T19:56:04.738707Z"
    }
   },
   "outputs": [],
   "source": [
    "# When grouping by agency\n",
    "agency_27_r = df_27_final_rides.groupby('agency_id').size().rename('2.7')\n",
    "agency_28_r = df_28_final_rides.groupby('operator_ref').size().rename('2.8')\n"
   ]
  },
  {
   "cell_type": "code",
   "execution_count": 66,
   "metadata": {
    "ExecuteTime": {
     "end_time": "2021-02-16T19:56:21.805204Z",
     "start_time": "2021-02-16T19:56:21.350104Z"
    }
   },
   "outputs": [
    {
     "data": {
      "image/png": "[encoded data removed]",
      "text/plain": [
       "<Figure size 432x288 with 1 Axes>"
      ]
     },
     "metadata": {
      "needs_background": "light"
     },
     "output_type": "display_data"
    }
   ],
   "source": [
    "agency_27_r.to_frame().join(agency_28_r).plot.bar(figsize=(6, 4))\n",
    "plt.title('Rides per agency 14/02/2021')\n",
    "\n",
    "plt.show()"
   ]
  },
  {
   "cell_type": "code",
   "execution_count": 67,
   "metadata": {
    "ExecuteTime": {
     "end_time": "2021-02-16T19:58:19.077805Z",
     "start_time": "2021-02-16T19:58:19.053532Z"
    },
    "scrolled": true
   },
   "outputs": [
    {
     "data": {
      "text/plain": [
       "98   -0.508475\n",
       "7    -0.070732\n",
       "23   -0.015424\n",
       "6    -0.004582\n",
       "50    0.000000\n",
       "10    0.000000\n",
       "51    0.000000\n",
       "5     0.005812\n",
       "47    0.006369\n",
       "45    0.008264\n",
       "42    0.011858\n",
       "44    0.012821\n",
       "8     0.017995\n",
       "24    0.021978\n",
       "4     0.030084\n",
       "15    0.031327\n",
       "32    0.033963\n",
       "31    0.038389\n",
       "18    0.040584\n",
       "14    0.043400\n",
       "16    0.046556\n",
       "25    0.047012\n",
       "3     0.051129\n",
       "2          NaN\n",
       "91         NaN\n",
       "94         NaN\n",
       "97         NaN\n",
       "dtype: float64"
      ]
     },
     "execution_count": 67,
     "metadata": {},
     "output_type": "execute_result"
    }
   ],
   "source": [
    "(1 - (agency_28_r / agency_27_r)).sort_values()"
   ]
  },
  {
   "cell_type": "code",
   "execution_count": 68,
   "metadata": {
    "ExecuteTime": {
     "end_time": "2021-02-16T19:59:59.134227Z",
     "start_time": "2021-02-16T19:59:59.057722Z"
    }
   },
   "outputs": [
    {
     "name": "stdout",
     "output_type": "stream",
     "text": [
      "Number of route ids with at least 1 ride of 10 points:\n",
      "\tSiri 2.7: 5167\n",
      "\tSiri 2.8: 5234\n",
      "\tMissing routes (appear in 2.7 but not in 2.8): 138\n",
      "\tExtra routes (appear in 2.8 but not in 2.7): 205\n"
     ]
    }
   ],
   "source": [
    "routes_27 = set(df_27_final_rides[df_27_final_rides.points_cnt > 10]\n",
    "                .route_id.values)\n",
    "routes_28 = set(df_28_final_rides[df_28_final_rides.points_cnt > 10]\n",
    "                .line_ref.values)\n",
    "\n",
    "missing_routes_no28_yes27 = routes_27 - routes_28\n",
    "\n",
    "extra_routes_no27_yes28 = routes_28 - routes_27\n",
    "\n",
    "print(\"Number of route ids with at least 1 ride of 10 points:\",\n",
    "      \"Siri 2.7: {}\".format(len(routes_27)),\n",
    "      \"Siri 2.8: {}\".format(len(routes_28)),\n",
    "      \"Missing routes (appear in 2.7 but not in 2.8): {}\".format( \n",
    "      len(missing_routes_no28_yes27)),\n",
    "      \"Extra routes (appear in 2.8 but not in 2.7): {}\".format( \n",
    "      len(extra_routes_no27_yes28)),\n",
    "     sep='\\n\\t')"
   ]
  },
  {
   "cell_type": "code",
   "execution_count": 69,
   "metadata": {
    "ExecuteTime": {
     "end_time": "2021-02-16T20:01:54.791798Z",
     "start_time": "2021-02-16T20:01:54.725418Z"
    }
   },
   "outputs": [
    {
     "name": "stdout",
     "output_type": "stream",
     "text": [
      "Number of route ids:\n",
      "\tSiri 2.7: 5333\n",
      "\tSiri 2.8: 5316\n",
      "\tMissing routes (appear in 2.7 but not in 2.8): 153\n",
      "\tExtra routes (appear in 2.8 but not in 2.7): 136\n",
      "2021-02-16 22:01:54.789416 json saved for all route ids\n"
     ]
    }
   ],
   "source": [
    "routes_27 = set(df_27_final_rides.route_id.values)\n",
    "routes_27 = {int(x) for x in routes_27} # cast for json serializability\n",
    "routes_28 = set(df_28_final_rides.line_ref.values)\n",
    "routes_28 = {int(x) for x in routes_28} # cast for json serializability\n",
    "\n",
    "missing_routes_no28_yes27 = routes_27 - routes_28\n",
    "\n",
    "extra_routes_no27_yes28 = routes_28 - routes_27\n",
    "\n",
    "print(\"Number of route ids:\",\n",
    "      \"Siri 2.7: {}\".format(len(routes_27)),\n",
    "      \"Siri 2.8: {}\".format(len(routes_28)),\n",
    "      \"Missing routes (appear in 2.7 but not in 2.8): {}\".format( \n",
    "      len(missing_routes_no28_yes27)),\n",
    "      \"Extra routes (appear in 2.8 but not in 2.7): {}\".format( \n",
    "      len(extra_routes_no27_yes28)),\n",
    "     sep='\\n\\t')\n",
    "\n",
    "\n",
    "routes_dict = {\n",
    "    'routes_2.7': sorted(list(routes_27)),\n",
    "    'routes_2.8': sorted(list(routes_28)),\n",
    "    'missing_routes_no2.8_yes2.7': sorted(list(missing_routes_no28_yes27)),\n",
    "    'extra_routes_no2.7_yes2.8': sorted(list(extra_routes_no27_yes28)),\n",
    "}\n",
    "\n",
    "with open('route_ids_siri_27_28.json', 'w') as f:\n",
    "    json.dump(routes_dict, f, indent=2)\n",
    "    print(dt.datetime.now(), \"json saved for all route ids\")"
   ]
  },
  {
   "cell_type": "code",
   "execution_count": 78,
   "metadata": {
    "ExecuteTime": {
     "end_time": "2021-02-16T20:06:09.389286Z",
     "start_time": "2021-02-16T20:06:09.210393Z"
    }
   },
   "outputs": [
    {
     "data": {
      "image/png": "[encoded data removed]",
      "text/plain": [
       "<Figure size 432x288 with 1 Axes>"
      ]
     },
     "metadata": {
      "needs_background": "light"
     },
     "output_type": "display_data"
    }
   ],
   "source": [
    "# missing routes per agency:\n",
    "df_27_final_rides[df_27_final_rides.route_id.isin(missing_routes_no28_yes27)]\\\n",
    "    .agency_id.value_counts().plot.bar()\n",
    "plt.title(\"Number of missing route_ids in 2.8 per agency 14/2/2021\")\n",
    "plt.show()"
   ]
  },
  {
   "cell_type": "code",
   "execution_count": 71,
   "metadata": {
    "ExecuteTime": {
     "end_time": "2021-02-16T20:03:33.385591Z",
     "start_time": "2021-02-16T20:03:33.359004Z"
    }
   },
   "outputs": [
    {
     "data": {
      "text/html": [
       "<div>\n",
       "<style scoped>\n",
       "    .dataframe tbody tr th:only-of-type {\n",
       "        vertical-align: middle;\n",
       "    }\n",
       "\n",
       "    .dataframe tbody tr th {\n",
       "        vertical-align: top;\n",
       "    }\n",
       "\n",
       "    .dataframe thead th {\n",
       "        text-align: right;\n",
       "    }\n",
       "</style>\n",
       "<table border=\"1\" class=\"dataframe\">\n",
       "  <thead>\n",
       "    <tr style=\"text-align: right;\">\n",
       "      <th></th>\n",
       "      <th>N_rides_in_2.7</th>\n",
       "    </tr>\n",
       "    <tr>\n",
       "      <th>route_id</th>\n",
       "      <th></th>\n",
       "    </tr>\n",
       "  </thead>\n",
       "  <tbody>\n",
       "    <tr>\n",
       "      <td>1315</td>\n",
       "      <td>7</td>\n",
       "    </tr>\n",
       "    <tr>\n",
       "      <td>11332</td>\n",
       "      <td>7</td>\n",
       "    </tr>\n",
       "    <tr>\n",
       "      <td>1106</td>\n",
       "      <td>7</td>\n",
       "    </tr>\n",
       "    <tr>\n",
       "      <td>7698</td>\n",
       "      <td>7</td>\n",
       "    </tr>\n",
       "    <tr>\n",
       "      <td>7927</td>\n",
       "      <td>7</td>\n",
       "    </tr>\n",
       "    <tr>\n",
       "      <td>7831</td>\n",
       "      <td>7</td>\n",
       "    </tr>\n",
       "    <tr>\n",
       "      <td>7843</td>\n",
       "      <td>6</td>\n",
       "    </tr>\n",
       "    <tr>\n",
       "      <td>11301</td>\n",
       "      <td>6</td>\n",
       "    </tr>\n",
       "    <tr>\n",
       "      <td>7873</td>\n",
       "      <td>6</td>\n",
       "    </tr>\n",
       "    <tr>\n",
       "      <td>16844</td>\n",
       "      <td>6</td>\n",
       "    </tr>\n",
       "  </tbody>\n",
       "</table>\n",
       "</div>"
      ],
      "text/plain": [
       "          N_rides_in_2.7\n",
       "route_id                \n",
       "1315                   7\n",
       "11332                  7\n",
       "1106                   7\n",
       "7698                   7\n",
       "7927                   7\n",
       "7831                   7\n",
       "7843                   6\n",
       "11301                  6\n",
       "7873                   6\n",
       "16844                  6"
      ]
     },
     "execution_count": 71,
     "metadata": {},
     "output_type": "execute_result"
    }
   ],
   "source": [
    "# missing routes with most rides in 2.7:\n",
    "df_27_final_rides[df_27_final_rides.route_id.isin(missing_routes_no28_yes27)]\\\n",
    "    .groupby('route_id').size().sort_values(ascending=False).head(10).to_frame().rename(columns={0: 'N_rides_in_2.7'})\n"
   ]
  },
  {
   "cell_type": "code",
   "execution_count": 72,
   "metadata": {
    "ExecuteTime": {
     "end_time": "2021-02-16T20:03:45.978362Z",
     "start_time": "2021-02-16T20:03:45.958212Z"
    }
   },
   "outputs": [],
   "source": [
    "# df_27_final_dedup[df_27_final_dedup.route_id == 26010].sort_values('dt_recorded')"
   ]
  },
  {
   "cell_type": "code",
   "execution_count": 74,
   "metadata": {
    "ExecuteTime": {
     "end_time": "2021-02-16T20:04:18.282315Z",
     "start_time": "2021-02-16T20:04:18.253681Z"
    }
   },
   "outputs": [],
   "source": [
    "# Do the missing rides belong to the missing routes?\n",
    "agency_27_r2 = df_27_final_rides[\n",
    "    ~df_27_final_rides.route_id.isin(missing_routes_no28_yes27)]\\\n",
    "    .groupby('agency_id').size().rename('2.7')\n"
   ]
  },
  {
   "cell_type": "code",
   "execution_count": 77,
   "metadata": {
    "ExecuteTime": {
     "end_time": "2021-02-16T20:04:35.477687Z",
     "start_time": "2021-02-16T20:04:35.176175Z"
    }
   },
   "outputs": [
    {
     "data": {
      "image/png": "[encoded data removed]",
      "text/plain": [
       "<Figure size 576x288 with 1 Axes>"
      ]
     },
     "metadata": {
      "needs_background": "light"
     },
     "output_type": "display_data"
    }
   ],
   "source": [
    "agency_27_r2.to_frame().join(agency_28_r).plot.bar(figsize=(8, 4))\n",
    "plt.title('Rides per agency without \"missing routes\" 14/02/2021')\n",
    "\n",
    "plt.show()"
   ]
  },
  {
   "cell_type": "code",
   "execution_count": 81,
   "metadata": {
    "ExecuteTime": {
     "end_time": "2021-02-16T20:09:11.822377Z",
     "start_time": "2021-02-16T20:09:11.492252Z"
    }
   },
   "outputs": [
    {
     "data": {
      "image/png": "[encoded data removed]",
      "text/plain": [
       "<Figure size 432x288 with 1 Axes>"
      ]
     },
     "metadata": {
      "needs_background": "light"
     },
     "output_type": "display_data"
    }
   ],
   "source": [
    "# number of points per ride:\n",
    "fig, ax = plt.subplots(1,1)\n",
    "\n",
    "df_27_final_rides.points_cnt.hist(bins=20, ax=ax, alpha=0.5, \n",
    "                                  label='2.7', range=(0, 150))\n",
    "df_28_final_rides.points_cnt.hist(bins=20, ax=ax, alpha=0.5, \n",
    "                                  label='2.8', range=(0, 150))\n",
    "\n",
    "plt.legend()\n",
    "plt.grid(False)\n",
    "plt.xlabel('Number of points per ride')\n",
    "plt.ylabel('Number of rides')\n",
    "plt.title('Histogram - Number of points per ride 14/02/2021')\n",
    "plt.show()"
   ]
  }
 ],
 "metadata": {
  "kernelspec": {
   "display_name": "Python (OpenBus20190909)",
   "language": "python",
   "name": "openbus20190909"
  },
  "language_info": {
   "codemirror_mode": {
    "name": "ipython",
    "version": 3
   },
   "file_extension": ".py",
   "mimetype": "text/x-python",
   "name": "python",
   "nbconvert_exporter": "python",
   "pygments_lexer": "ipython3",
   "version": "3.7.4"
  },
  "toc": {
   "base_numbering": 1,
   "nav_menu": {},
   "number_sections": true,
   "sideBar": true,
   "skip_h1_title": false,
   "title_cell": "Table of Contents",
   "title_sidebar": "Contents",
   "toc_cell": false,
   "toc_position": {},
   "toc_section_display": true,
   "toc_window_display": false
  }
 },
 "nbformat": 4,
 "nbformat_minor": 4
}
