{
 "cells": [
  {
   "cell_type": "markdown",
   "metadata": {},
   "source": [
    "Nov.10 2020, Adi Watzman & Eyal Berger. Based on a code by Dan Bareket. \n",
    "\n",
    "V2 - compare a recent date (Nov.9, >14PM) and export out feedback to send MoT.\n",
    "\n",
    "======\n",
    "\n",
    "Parse 1 day of data to compare Siri 2.7 to 2.8 versions.  \n",
    "2.7 is the current \"production\" version for us, base on siri_retreiver Java code that queries MoT's servers for all last stops.   \n",
    "2.8 is a new version, that allows MUCH simpler query, and get all currently driving buses without any quering hack.   \n",
    "However, we want to make sure we get the same data with both versions before we switch to 2.8 for \"production\".\n",
    "\n",
    "In V1 we saw a lot of points and rides missing in 2.8 comparing to 2.7, for Sep. 15.\n",
    "\n",
    "The data was manually downloaded from our S3 server.\n",
    "\n"
   ]
  },
  {
   "cell_type": "code",
   "execution_count": 1,
   "metadata": {
    "ExecuteTime": {
     "end_time": "2020-11-19T09:46:43.624831Z",
     "start_time": "2020-11-19T09:46:43.608787Z"
    }
   },
   "outputs": [],
   "source": [
    "%load_ext autoreload\n",
    "%autoreload 2"
   ]
  },
  {
   "cell_type": "code",
   "execution_count": 2,
   "metadata": {
    "ExecuteTime": {
     "end_time": "2020-11-19T09:46:46.443856Z",
     "start_time": "2020-11-19T09:46:44.478967Z"
    },
    "colab": {
     "base_uri": "https://localhost:8080/",
     "height": 71
    },
    "colab_type": "code",
    "id": "ZqtCsciJ4IUX",
    "outputId": "95cc64ba-73ee-435b-92db-6d105903da06"
   },
   "outputs": [],
   "source": [
    "import gzip\n",
    "import json\n",
    "import matplotlib.pyplot as plt\n",
    "import numpy as np\n",
    "from os.path import join\n",
    "import pandas as pd\n",
    "import seaborn as sns\n",
    "\n",
    "sns.set_context('notebook')\n",
    "sns.set_style('white')"
   ]
  },
  {
   "cell_type": "code",
   "execution_count": 3,
   "metadata": {
    "ExecuteTime": {
     "end_time": "2020-11-19T09:46:46.470484Z",
     "start_time": "2020-11-19T09:46:46.445730Z"
    }
   },
   "outputs": [],
   "source": [
    "import datetime as dt"
   ]
  },
  {
   "cell_type": "code",
   "execution_count": 4,
   "metadata": {
    "ExecuteTime": {
     "end_time": "2020-11-19T09:46:46.495440Z",
     "start_time": "2020-11-19T09:46:46.472389Z"
    }
   },
   "outputs": [],
   "source": [
    "data_dir = '/Users/awatzman/Documents/OpenBusDocuments/data/' \\\n",
    "           '2020-10-12_compare_siri_2.7_2.8'\n",
    "siri_27_dir = join(data_dir, 'siri_27_2020-11-09') # csv.gz files\n",
    "siri_28_dir = join(data_dir, 'siri_28_2020-11-09') # tar.gz file per hour, each with ~120 json.gz files\n"
   ]
  },
  {
   "cell_type": "code",
   "execution_count": 5,
   "metadata": {
    "ExecuteTime": {
     "end_time": "2020-11-19T09:46:47.785798Z",
     "start_time": "2020-11-19T09:46:47.394311Z"
    }
   },
   "outputs": [
    {
     "name": "stdout",
     "output_type": "stream",
     "text": [
      "       9\r\n"
     ]
    }
   ],
   "source": [
    "! ls $siri_27_dir | grep csv | wc -l"
   ]
  },
  {
   "cell_type": "code",
   "execution_count": 6,
   "metadata": {
    "ExecuteTime": {
     "end_time": "2020-11-19T09:46:48.470937Z",
     "start_time": "2020-11-19T09:46:48.103094Z"
    }
   },
   "outputs": [
    {
     "name": "stdout",
     "output_type": "stream",
     "text": [
      "      10\r\n"
     ]
    }
   ],
   "source": [
    "! ls $siri_28_dir | grep tar | wc -l"
   ]
  },
  {
   "cell_type": "code",
   "execution_count": 7,
   "metadata": {
    "ExecuteTime": {
     "end_time": "2020-11-19T09:46:49.220657Z",
     "start_time": "2020-11-19T09:46:48.891133Z"
    }
   },
   "outputs": [
    {
     "name": "stdout",
     "output_type": "stream",
     "text": [
      "2020-11-09_14.tar.gz\r\n",
      "2020-11-09_15.tar.gz\r\n",
      "2020-11-09_16.tar.gz\r\n",
      "2020-11-09_17.tar.gz\r\n",
      "2020-11-09_18.tar.gz\r\n",
      "2020-11-09_19.tar.gz\r\n",
      "2020-11-09_20.tar.gz\r\n",
      "2020-11-09_21.tar.gz\r\n",
      "2020-11-09_22.tar.gz\r\n",
      "2020-11-09_23.tar.gz\r\n"
     ]
    }
   ],
   "source": [
    "! ls $siri_28_dir | grep tar "
   ]
  },
  {
   "cell_type": "code",
   "execution_count": 25,
   "metadata": {
    "ExecuteTime": {
     "end_time": "2020-11-10T19:43:44.604073Z",
     "start_time": "2020-11-10T19:43:43.840106Z"
    },
    "collapsed": true
   },
   "outputs": [
    {
     "name": "stdout",
     "output_type": "stream",
     "text": [
      "gtar: /Users/awatzman/Documents/OpenBusDocuments/data/2020-10-12_compare_siri_2.7_2.8/siri_28_2020-11-09/2020-11-09_15.tar.gz: Not found in archive\r\n",
      "gtar: /Users/awatzman/Documents/OpenBusDocuments/data/2020-10-12_compare_siri_2.7_2.8/siri_28_2020-11-09/2020-11-09_16.tar.gz: Not found in archive\r\n",
      "gtar: /Users/awatzman/Documents/OpenBusDocuments/data/2020-10-12_compare_siri_2.7_2.8/siri_28_2020-11-09/2020-11-09_17.tar.gz: Not found in archive\r\n",
      "gtar: /Users/awatzman/Documents/OpenBusDocuments/data/2020-10-12_compare_siri_2.7_2.8/siri_28_2020-11-09/2020-11-09_18.tar.gz: Not found in archive\r\n",
      "gtar: /Users/awatzman/Documents/OpenBusDocuments/data/2020-10-12_compare_siri_2.7_2.8/siri_28_2020-11-09/2020-11-09_19.tar.gz: Not found in archive\r\n",
      "gtar: /Users/awatzman/Documents/OpenBusDocuments/data/2020-10-12_compare_siri_2.7_2.8/siri_28_2020-11-09/2020-11-09_20.tar.gz: Not found in archive\r\n",
      "gtar: /Users/awatzman/Documents/OpenBusDocuments/data/2020-10-12_compare_siri_2.7_2.8/siri_28_2020-11-09/2020-11-09_21.tar.gz: Not found in archive\r\n",
      "gtar: /Users/awatzman/Documents/OpenBusDocuments/data/2020-10-12_compare_siri_2.7_2.8/siri_28_2020-11-09/2020-11-09_22.tar.gz: Not found in archive\r\n",
      "gtar: /Users/awatzman/Documents/OpenBusDocuments/data/2020-10-12_compare_siri_2.7_2.8/siri_28_2020-11-09/2020-11-09_23.tar.gz: Not found in archive\r\n",
      "gtar: Exiting with failure status due to previous errors\r\n"
     ]
    }
   ],
   "source": [
    "# # unpack 2.8 tar files: (was done manually)\n",
    "# ! gtar -zxvf $siri_28_dir/*.tar.gz"
   ]
  },
  {
   "cell_type": "markdown",
   "metadata": {},
   "source": [
    "# Read 2.8 files"
   ]
  },
  {
   "cell_type": "code",
   "execution_count": 8,
   "metadata": {
    "ExecuteTime": {
     "end_time": "2020-11-19T09:46:54.334600Z",
     "start_time": "2020-11-19T09:46:54.312236Z"
    }
   },
   "outputs": [],
   "source": [
    "from siri_parser import read_siri28_file, read_siri28_files, SIRI28_TYPES"
   ]
  },
  {
   "cell_type": "code",
   "execution_count": 86,
   "metadata": {
    "ExecuteTime": {
     "end_time": "2020-11-10T20:55:56.043534Z",
     "start_time": "2020-11-10T20:44:44.401291Z"
    },
    "scrolled": true
   },
   "outputs": [
    {
     "name": "stdout",
     "output_type": "stream",
     "text": [
      "/Users/awatzman/Documents/OpenBusDocuments/data/2020-10-12_compare_siri_2.7_2.8/siri_28_2020-11-09/18/siri_snap_normal_2020-11-09T183631.json Expecting value: line 1 column 1 (char 0)\n",
      "CPU times: user 10min 49s, sys: 20.6 s, total: 11min 9s\n",
      "Wall time: 11min 11s\n"
     ]
    }
   ],
   "source": [
    "# %%time\n",
    "# df_28_day = read_siri28_files(siri_28_dir, max_files=None, suf='.json')\n",
    "# df_28_day.shape"
   ]
  },
  {
   "cell_type": "code",
   "execution_count": 87,
   "metadata": {
    "ExecuteTime": {
     "end_time": "2020-11-10T20:55:57.836869Z",
     "start_time": "2020-11-10T20:55:56.046418Z"
    }
   },
   "outputs": [],
   "source": [
    "# df_28_day.to_feather('df_28_20201109.feather')"
   ]
  },
  {
   "cell_type": "code",
   "execution_count": 9,
   "metadata": {
    "ExecuteTime": {
     "end_time": "2020-11-19T09:46:59.781318Z",
     "start_time": "2020-11-19T09:46:58.095285Z"
    }
   },
   "outputs": [
    {
     "data": {
      "text/plain": [
       "(5673709, 26)"
      ]
     },
     "execution_count": 9,
     "metadata": {},
     "output_type": "execute_result"
    }
   ],
   "source": [
    "df_28_day = pd.read_feather('df_28_20201109.feather')\n",
    "df_28_day.shape"
   ]
  },
  {
   "cell_type": "code",
   "execution_count": 10,
   "metadata": {
    "ExecuteTime": {
     "end_time": "2020-11-19T09:47:01.396032Z",
     "start_time": "2020-11-19T09:47:01.321974Z"
    }
   },
   "outputs": [
    {
     "data": {
      "text/plain": [
       "recorded_at_time               datetime64[ns, pytz.FixedOffset(120)]\n",
       "origin_aimed_departure_time    datetime64[ns, pytz.FixedOffset(120)]\n",
       "expected_arrival_time          datetime64[ns, pytz.FixedOffset(120)]\n",
       "aimed_arrival_time             datetime64[ns, pytz.FixedOffset(120)]\n",
       "response_timestamp             datetime64[ns, pytz.FixedOffset(120)]\n",
       "dtype: object"
      ]
     },
     "execution_count": 10,
     "metadata": {},
     "output_type": "execute_result"
    }
   ],
   "source": [
    "dt_cols = [col for col in df_28_day.columns \n",
    "           if pd.api.types.is_datetime64_ns_dtype(df_28_day[col])]\n",
    "df_28_day[dt_cols].dtypes"
   ]
  },
  {
   "cell_type": "code",
   "execution_count": 11,
   "metadata": {
    "ExecuteTime": {
     "end_time": "2020-11-19T09:47:11.718649Z",
     "start_time": "2020-11-19T09:47:11.299427Z"
    }
   },
   "outputs": [],
   "source": [
    "# remove timezone data, keep the time as-is to compare to 2.7 that has no timezone data\n",
    "for col in dt_cols:\n",
    "    df_28_day[col] = df_28_day[col].dt.tz_localize(None)"
   ]
  },
  {
   "cell_type": "code",
   "execution_count": 12,
   "metadata": {
    "ExecuteTime": {
     "end_time": "2020-11-19T09:47:23.078136Z",
     "start_time": "2020-11-19T09:47:23.057895Z"
    },
    "scrolled": true
   },
   "outputs": [
    {
     "data": {
      "text/plain": [
       "recorded_at_time               datetime64[ns]\n",
       "item_identifier                         int64\n",
       "monitoring_ref                          int64\n",
       "line_ref                                int64\n",
       "direction_ref                           int64\n",
       "data_frame_ref                         object\n",
       "dated_vehicle_journey_ref               int64\n",
       "published_line_name                    object\n",
       "operator_ref                         category\n",
       "destination_ref                         int64\n",
       "origin_aimed_departure_time    datetime64[ns]\n",
       "longitude                             float32\n",
       "latitude                              float32\n",
       "bearing                                 int64\n",
       "velocity                                int64\n",
       "vehicle_ref                             int64\n",
       "stop_point_ref                          int64\n",
       "order                                   int64\n",
       "expected_arrival_time          datetime64[ns]\n",
       "distance_from_stop                      int64\n",
       "aimed_arrival_time             datetime64[ns]\n",
       "arrival_status                       category\n",
       "arrival_platform_name                 float64\n",
       "_version                             category\n",
       "response_timestamp             datetime64[ns]\n",
       "status                                   bool\n",
       "dtype: object"
      ]
     },
     "execution_count": 12,
     "metadata": {},
     "output_type": "execute_result"
    }
   ],
   "source": [
    "df_28_day.dtypes"
   ]
  },
  {
   "cell_type": "code",
   "execution_count": 13,
   "metadata": {
    "ExecuteTime": {
     "end_time": "2020-11-19T09:48:12.691906Z",
     "start_time": "2020-11-19T09:48:12.094162Z"
    }
   },
   "outputs": [
    {
     "data": {
      "text/plain": [
       "(38894, 26)"
      ]
     },
     "execution_count": 13,
     "metadata": {},
     "output_type": "execute_result"
    }
   ],
   "source": [
    "# number of rides:\n",
    "# By: agency, route, bus, start_time\n",
    "df_28_day.drop_duplicates([\n",
    "    'operator_ref', 'line_ref', 'vehicle_ref', \n",
    "    'origin_aimed_departure_time'], keep='first').shape"
   ]
  },
  {
   "cell_type": "code",
   "execution_count": 14,
   "metadata": {
    "ExecuteTime": {
     "end_time": "2020-11-19T09:48:15.041445Z",
     "start_time": "2020-11-19T09:48:13.579725Z"
    }
   },
   "outputs": [
    {
     "data": {
      "text/plain": [
       "(38894,)"
      ]
     },
     "execution_count": 14,
     "metadata": {},
     "output_type": "execute_result"
    }
   ],
   "source": [
    "# number of rides without 0:\n",
    "# By: agency, route, bus, start_time\n",
    "df_28_rides = df_28_day[df_28_day.latitude != 0].groupby([\n",
    "    'operator_ref', 'line_ref', 'vehicle_ref', \n",
    "    'origin_aimed_departure_time']).size()\n",
    "\n",
    "# df_28_rides = df_28_day2[df_28_day2.latitude != 0].drop_duplicates([\n",
    "#     'operator_ref', 'line_ref', 'vehicle_ref', \n",
    "#     'origin_aimed_departure_time'], keep='first')\n",
    "df_28_rides.shape"
   ]
  },
  {
   "cell_type": "markdown",
   "metadata": {},
   "source": [
    "2.8 does not have entire 0 rides."
   ]
  },
  {
   "cell_type": "code",
   "execution_count": 15,
   "metadata": {
    "ExecuteTime": {
     "end_time": "2020-11-19T09:48:17.213723Z",
     "start_time": "2020-11-19T09:48:15.718370Z"
    }
   },
   "outputs": [
    {
     "data": {
      "text/plain": [
       "(1052395, 26)"
      ]
     },
     "execution_count": 15,
     "metadata": {},
     "output_type": "execute_result"
    }
   ],
   "source": [
    "# number of responses deduped (GPS points) without 0:\n",
    "# By: agency, route, bus, start_time, recorded_at_time\n",
    "df_28_day_dedup = df_28_day[df_28_day.latitude != 0].drop_duplicates([\n",
    "    'operator_ref', 'line_ref', 'vehicle_ref', \n",
    "    'origin_aimed_departure_time', 'recorded_at_time'], \n",
    "    keep='first')\n",
    "df_28_day_dedup.shape"
   ]
  },
  {
   "cell_type": "code",
   "execution_count": 16,
   "metadata": {
    "ExecuteTime": {
     "end_time": "2020-11-19T09:48:19.201666Z",
     "start_time": "2020-11-19T09:48:17.215791Z"
    }
   },
   "outputs": [
    {
     "data": {
      "text/plain": [
       "(1030764, 26)"
      ]
     },
     "execution_count": 16,
     "metadata": {},
     "output_type": "execute_result"
    }
   ],
   "source": [
    "# number of responses deduped (GPS points) without 0, ride starts after 14PM:\n",
    "# By: agency, route, bus, start_time, recorded_at_time\n",
    "df_28_final_dedup = df_28_day[\n",
    "    (df_28_day.latitude != 0) &\n",
    "    (df_28_day.recorded_at_time.dt.day == 9) &\n",
    "    (df_28_day.recorded_at_time.dt.hour >= 14)\n",
    "    ].drop_duplicates([\n",
    "    'operator_ref', 'line_ref', 'vehicle_ref', \n",
    "    'origin_aimed_departure_time', 'recorded_at_time'], \n",
    "    keep='first')\n",
    "df_28_final_dedup.shape"
   ]
  },
  {
   "cell_type": "code",
   "execution_count": 17,
   "metadata": {
    "ExecuteTime": {
     "end_time": "2020-11-19T09:48:19.514892Z",
     "start_time": "2020-11-19T09:48:19.343905Z"
    }
   },
   "outputs": [
    {
     "data": {
      "text/plain": [
       "(38395, 5)"
      ]
     },
     "execution_count": 17,
     "metadata": {},
     "output_type": "execute_result"
    }
   ],
   "source": [
    "df_28_final_rides = df_28_final_dedup.groupby([\n",
    "    'operator_ref', 'line_ref', 'vehicle_ref', \n",
    "    'origin_aimed_departure_time'])\\\n",
    "    .recorded_at_time.count()\\\n",
    "    .rename('points_cnt').reset_index(drop=False)\n",
    "df_28_final_rides.shape"
   ]
  },
  {
   "cell_type": "markdown",
   "metadata": {},
   "source": [
    "# Read 2.7 files"
   ]
  },
  {
   "cell_type": "code",
   "execution_count": 18,
   "metadata": {
    "ExecuteTime": {
     "end_time": "2020-11-19T09:49:43.505123Z",
     "start_time": "2020-11-19T09:49:43.483926Z"
    }
   },
   "outputs": [],
   "source": [
    "from siri_parser import read_siri27_files"
   ]
  },
  {
   "cell_type": "code",
   "execution_count": 19,
   "metadata": {
    "ExecuteTime": {
     "end_time": "2020-11-19T09:49:52.327988Z",
     "start_time": "2020-11-19T09:49:44.438022Z"
    }
   },
   "outputs": [
    {
     "name": "stdout",
     "output_type": "stream",
     "text": [
      "CPU times: user 8.58 s, sys: 874 ms, total: 9.46 s\n",
      "Wall time: 7.87 s\n"
     ]
    }
   ],
   "source": [
    "%%time\n",
    "df_27_day = read_siri27_files(siri_27_dir, max_files=None)"
   ]
  },
  {
   "cell_type": "code",
   "execution_count": 20,
   "metadata": {
    "ExecuteTime": {
     "end_time": "2020-11-19T09:51:28.038315Z",
     "start_time": "2020-11-19T09:51:28.015293Z"
    }
   },
   "outputs": [
    {
     "data": {
      "text/plain": [
       "(2256509, 14)"
      ]
     },
     "execution_count": 20,
     "metadata": {},
     "output_type": "execute_result"
    }
   ],
   "source": [
    "df_27_day.shape"
   ]
  },
  {
   "cell_type": "code",
   "execution_count": 21,
   "metadata": {
    "ExecuteTime": {
     "end_time": "2020-11-19T09:51:29.354271Z",
     "start_time": "2020-11-19T09:51:29.333629Z"
    }
   },
   "outputs": [
    {
     "data": {
      "text/plain": [
       "Index(['planned_start_dt', 'predicted_end_dt', 'dt_recorded', 'timestamp',\n",
       "       'agency_id', 'route_id', 'route_short_name', 'service_id', 'bus_id',\n",
       "       'lat', 'lon', 'stop_point_ref', 'date', 'num_duplicates'],\n",
       "      dtype='object')"
      ]
     },
     "execution_count": 21,
     "metadata": {},
     "output_type": "execute_result"
    }
   ],
   "source": [
    "df_27_day.columns"
   ]
  },
  {
   "cell_type": "code",
   "execution_count": 22,
   "metadata": {
    "ExecuteTime": {
     "end_time": "2020-11-19T09:51:30.127077Z",
     "start_time": "2020-11-19T09:51:30.108028Z"
    }
   },
   "outputs": [
    {
     "data": {
      "text/plain": [
       "planned_start_dt    datetime64[ns]\n",
       "predicted_end_dt    datetime64[ns]\n",
       "dt_recorded         datetime64[ns]\n",
       "timestamp           datetime64[ns]\n",
       "agency_id                    int64\n",
       "route_id                     int64\n",
       "route_short_name            object\n",
       "service_id                   int64\n",
       "bus_id                       int64\n",
       "lat                        float32\n",
       "lon                        float32\n",
       "stop_point_ref               int64\n",
       "date                        object\n",
       "num_duplicates               int64\n",
       "dtype: object"
      ]
     },
     "execution_count": 22,
     "metadata": {},
     "output_type": "execute_result"
    }
   ],
   "source": [
    "df_27_day.dtypes"
   ]
  },
  {
   "cell_type": "code",
   "execution_count": 23,
   "metadata": {
    "ExecuteTime": {
     "end_time": "2020-11-19T09:51:33.009288Z",
     "start_time": "2020-11-19T09:51:32.457506Z"
    }
   },
   "outputs": [
    {
     "data": {
      "text/plain": [
       "(74064, 14)"
      ]
     },
     "execution_count": 23,
     "metadata": {},
     "output_type": "execute_result"
    }
   ],
   "source": [
    "# number of rides:\n",
    "# By: agency, route, bus, start_time\n",
    "df_27_day.drop_duplicates([\n",
    "    'agency_id', 'route_id', 'bus_id', \n",
    "    'planned_start_dt'], keep='first').shape"
   ]
  },
  {
   "cell_type": "code",
   "execution_count": 24,
   "metadata": {
    "ExecuteTime": {
     "end_time": "2020-11-19T09:51:34.901597Z",
     "start_time": "2020-11-19T09:51:34.436214Z"
    }
   },
   "outputs": [
    {
     "data": {
      "text/plain": [
       "(59059,)"
      ]
     },
     "execution_count": 24,
     "metadata": {},
     "output_type": "execute_result"
    }
   ],
   "source": [
    "# number of rides without 0:\n",
    "# By: agency, route, bus, start_time\n",
    "\n",
    "df_27_rides = df_27_day[df_27_day.lat != 0].groupby([\n",
    "    'agency_id', 'route_id', 'bus_id', \n",
    "    'planned_start_dt']).size()\n",
    "\n",
    "# df_27_rides = df_27_day[df_27_day.lat != 0].drop_duplicates([\n",
    "#     'agency_id', 'route_id', 'bus_id', \n",
    "#     'planned_start_dt'], keep='first')\n",
    "df_27_rides.shape"
   ]
  },
  {
   "cell_type": "code",
   "execution_count": 25,
   "metadata": {
    "ExecuteTime": {
     "end_time": "2020-11-19T09:51:36.178891Z",
     "start_time": "2020-11-19T09:51:35.620580Z"
    }
   },
   "outputs": [
    {
     "data": {
      "text/plain": [
       "(1926489, 14)"
      ]
     },
     "execution_count": 25,
     "metadata": {},
     "output_type": "execute_result"
    }
   ],
   "source": [
    "# number of responses deduped (GPS points), without 0:\n",
    "# By: agency, route, bus, start_time, recorded_at_time\n",
    "df_27_day_dedup = df_27_day[df_27_day.lat != 0].drop_duplicates([\n",
    "    'agency_id', 'route_id', 'bus_id', \n",
    "    'planned_start_dt', 'dt_recorded'], \n",
    "    keep='first')\n",
    "df_27_day_dedup.shape"
   ]
  },
  {
   "cell_type": "code",
   "execution_count": 26,
   "metadata": {
    "ExecuteTime": {
     "end_time": "2020-11-19T09:51:37.289289Z",
     "start_time": "2020-11-19T09:51:36.531064Z"
    }
   },
   "outputs": [
    {
     "data": {
      "text/plain": [
       "(1759604, 14)"
      ]
     },
     "execution_count": 26,
     "metadata": {},
     "output_type": "execute_result"
    }
   ],
   "source": [
    "# number of responses deduped (GPS points), without 0, recorded after 14PM:\n",
    "# By: agency, route, bus, start_time, recorded_at_time\n",
    "df_27_final_dedup = df_27_day[\n",
    "    (df_27_day.lat != 0) & \n",
    "    (df_27_day.dt_recorded.dt.day == 9) &\n",
    "    (df_27_day.dt_recorded.dt.hour >= 14)\n",
    "    ].drop_duplicates([\n",
    "    'agency_id', 'route_id', 'bus_id', \n",
    "    'planned_start_dt', 'dt_recorded'], \n",
    "    keep='first')\n",
    "df_27_final_dedup.shape"
   ]
  },
  {
   "cell_type": "code",
   "execution_count": 27,
   "metadata": {
    "ExecuteTime": {
     "end_time": "2020-11-19T09:51:37.859606Z",
     "start_time": "2020-11-19T09:51:37.597293Z"
    }
   },
   "outputs": [
    {
     "data": {
      "text/plain": [
       "(47336, 5)"
      ]
     },
     "execution_count": 27,
     "metadata": {},
     "output_type": "execute_result"
    }
   ],
   "source": [
    "df_27_final_rides = df_27_final_dedup.groupby([\n",
    "    'agency_id', 'route_id', 'bus_id', 'planned_start_dt'])\\\n",
    "    .dt_recorded.count().rename('points_cnt').reset_index(drop=False)\n",
    "df_27_final_rides.shape"
   ]
  },
  {
   "cell_type": "markdown",
   "metadata": {},
   "source": [
    "# Compare versions"
   ]
  },
  {
   "cell_type": "markdown",
   "metadata": {},
   "source": [
    "## Data availability and time matching"
   ]
  },
  {
   "cell_type": "code",
   "execution_count": 28,
   "metadata": {
    "ExecuteTime": {
     "end_time": "2020-11-19T09:51:43.638992Z",
     "start_time": "2020-11-19T09:51:43.622190Z"
    }
   },
   "outputs": [],
   "source": [
    "import os.path\n",
    "from pathlib import Path"
   ]
  },
  {
   "cell_type": "code",
   "execution_count": 29,
   "metadata": {
    "ExecuteTime": {
     "end_time": "2020-11-19T09:51:45.547650Z",
     "start_time": "2020-11-19T09:51:45.317741Z"
    }
   },
   "outputs": [
    {
     "name": "stdout",
     "output_type": "stream",
     "text": [
      "1198\n"
     ]
    },
    {
     "data": {
      "image/png": "[encoded data removed]",
      "text/plain": [
       "<Figure size 432x288 with 1 Axes>"
      ]
     },
     "metadata": {
      "needs_background": "light"
     },
     "output_type": "display_data"
    }
   ],
   "source": [
    "# plot number of files per hour in 2.8 (should be ~120 files per hour)\n",
    "files_28 = [os.path.basename(x) for x in Path(siri_28_dir).rglob('*.json')]  # recursive search\n",
    "print(len(files_28))\n",
    "\n",
    "files_hour_28 = [x.split('-09T')[1].split('.')[0][:2] for x in files_28]\n",
    "pd.Series(files_hour_28).value_counts().sort_index().plot.bar()\n",
    "plt.show()\n"
   ]
  },
  {
   "cell_type": "code",
   "execution_count": 30,
   "metadata": {
    "ExecuteTime": {
     "end_time": "2020-11-19T09:51:47.046468Z",
     "start_time": "2020-11-19T09:51:46.690737Z"
    }
   },
   "outputs": [
    {
     "data": {
      "image/png": "[encoded data removed]",
      "text/plain": [
       "<Figure size 432x288 with 1 Axes>"
      ]
     },
     "metadata": {
      "needs_background": "light"
     },
     "output_type": "display_data"
    }
   ],
   "source": [
    "# Points per hour\n",
    "hour_27 = df_27_final_dedup.groupby(df_27_final_dedup.dt_recorded.dt.hour).size().rename('2.7')\n",
    "hour_28 = df_28_final_dedup.groupby(df_28_final_dedup.recorded_at_time.dt.hour).size().rename('2.8')\n",
    "\n",
    "hour_27.to_frame().join(hour_28).plot.bar(figsize=(6, 4))\n",
    "plt.title('GPS Points per hour 9/11/20')\n",
    "plt.show()"
   ]
  },
  {
   "cell_type": "code",
   "execution_count": 31,
   "metadata": {
    "ExecuteTime": {
     "end_time": "2020-11-19T09:51:49.196374Z",
     "start_time": "2020-11-19T09:51:49.018839Z"
    }
   },
   "outputs": [
    {
     "data": {
      "image/png": "[encoded data removed]",
      "text/plain": [
       "<Figure size 432x288 with 1 Axes>"
      ]
     },
     "metadata": {
      "needs_background": "light"
     },
     "output_type": "display_data"
    }
   ],
   "source": [
    "(1 - (hour_28/hour_27)).plot.bar(figsize=(6, 4))\n",
    "plt.show()"
   ]
  },
  {
   "cell_type": "code",
   "execution_count": 32,
   "metadata": {
    "ExecuteTime": {
     "end_time": "2020-11-19T09:51:50.504689Z",
     "start_time": "2020-11-19T09:51:50.483257Z"
    }
   },
   "outputs": [
    {
     "data": {
      "text/plain": [
       "0.5857931670989609"
      ]
     },
     "execution_count": 32,
     "metadata": {},
     "output_type": "execute_result"
    }
   ],
   "source": [
    "hour_28.sum() / hour_27.sum()"
   ]
  },
  {
   "cell_type": "markdown",
   "metadata": {},
   "source": [
    "2.8 has 42% less GPS points than 2.7, this is consistent across hours (39-55% less points per hour)"
   ]
  },
  {
   "cell_type": "markdown",
   "metadata": {},
   "source": [
    "## GPS points comparison"
   ]
  },
  {
   "cell_type": "code",
   "execution_count": 33,
   "metadata": {
    "ExecuteTime": {
     "end_time": "2020-11-19T09:51:54.469454Z",
     "start_time": "2020-11-19T09:51:54.420125Z"
    }
   },
   "outputs": [],
   "source": [
    "# When grouping by agency\n",
    "agency_27 = df_27_final_dedup.groupby('agency_id').size().rename('2.7')\n",
    "agency_28 = df_28_final_dedup.groupby('operator_ref').size().rename('2.8')\n"
   ]
  },
  {
   "cell_type": "code",
   "execution_count": 34,
   "metadata": {
    "ExecuteTime": {
     "end_time": "2020-11-19T09:51:56.122331Z",
     "start_time": "2020-11-19T09:51:55.859572Z"
    }
   },
   "outputs": [
    {
     "data": {
      "image/png": "[encoded data removed]",
      "text/plain": [
       "<Figure size 432x288 with 1 Axes>"
      ]
     },
     "metadata": {
      "needs_background": "light"
     },
     "output_type": "display_data"
    }
   ],
   "source": [
    "agency_27.to_frame().join(agency_28).plot.bar(figsize=(6, 4))\n",
    "plt.title('GPS Points per agency 9/11/20')\n",
    "\n",
    "plt.show()"
   ]
  },
  {
   "cell_type": "code",
   "execution_count": 35,
   "metadata": {
    "ExecuteTime": {
     "end_time": "2020-11-19T09:52:00.482911Z",
     "start_time": "2020-11-19T09:52:00.461188Z"
    },
    "collapsed": true
   },
   "outputs": [
    {
     "data": {
      "text/plain": [
       "6     0.169769\n",
       "5     0.177289\n",
       "7     0.225268\n",
       "14    0.315186\n",
       "3     0.337620\n",
       "32    0.407086\n",
       "15    0.451375\n",
       "18    0.522849\n",
       "25    0.546423\n",
       "16    0.547971\n",
       "31    0.638895\n",
       "23    0.644865\n",
       "4     0.672433\n",
       "8     0.709886\n",
       "24    0.931918\n",
       "2          NaN\n",
       "98         NaN\n",
       "dtype: float64"
      ]
     },
     "execution_count": 35,
     "metadata": {},
     "output_type": "execute_result"
    }
   ],
   "source": [
    "(1 - (agency_28/agency_27)).sort_values()"
   ]
  },
  {
   "cell_type": "markdown",
   "metadata": {},
   "source": [
    "## Rides comparison"
   ]
  },
  {
   "cell_type": "code",
   "execution_count": 36,
   "metadata": {
    "ExecuteTime": {
     "end_time": "2020-11-19T09:52:41.634090Z",
     "start_time": "2020-11-19T09:52:41.611483Z"
    }
   },
   "outputs": [
    {
     "data": {
      "text/plain": [
       "(47336, 38395)"
      ]
     },
     "execution_count": 36,
     "metadata": {},
     "output_type": "execute_result"
    }
   ],
   "source": [
    "df_27_final_rides.shape[0], df_28_final_rides.shape[0]"
   ]
  },
  {
   "cell_type": "code",
   "execution_count": 37,
   "metadata": {
    "ExecuteTime": {
     "end_time": "2020-11-19T09:52:44.785347Z",
     "start_time": "2020-11-19T09:52:44.761156Z"
    }
   },
   "outputs": [
    {
     "data": {
      "text/plain": [
       "0.8111162751394287"
      ]
     },
     "execution_count": 37,
     "metadata": {},
     "output_type": "execute_result"
    }
   ],
   "source": [
    "df_28_final_rides.shape[0] / df_27_final_rides.shape[0]"
   ]
  },
  {
   "cell_type": "code",
   "execution_count": 38,
   "metadata": {
    "ExecuteTime": {
     "end_time": "2020-11-19T09:52:48.381176Z",
     "start_time": "2020-11-19T09:52:48.114975Z"
    }
   },
   "outputs": [
    {
     "data": {
      "image/png": "[encoded data removed]",
      "text/plain": [
       "<Figure size 432x288 with 1 Axes>"
      ]
     },
     "metadata": {
      "needs_background": "light"
     },
     "output_type": "display_data"
    }
   ],
   "source": [
    "# Points per hour\n",
    "hour_27_r = df_27_final_rides.groupby(\n",
    "    df_27_final_rides.planned_start_dt.dt.hour).size().rename('2.7')\n",
    "hour_28_r = df_28_final_rides.groupby(\n",
    "    df_28_final_rides.origin_aimed_departure_time.dt.hour)\\\n",
    "    .size().rename('2.8')\n",
    "\n",
    "hour_27_r.to_frame().join(hour_28_r).plot.bar(figsize=(6, 4))\n",
    "plt.title('Rides per hour 9/11/20')\n",
    "plt.show()"
   ]
  },
  {
   "cell_type": "code",
   "execution_count": null,
   "metadata": {},
   "outputs": [],
   "source": []
  },
  {
   "cell_type": "code",
   "execution_count": null,
   "metadata": {},
   "outputs": [],
   "source": []
  },
  {
   "cell_type": "code",
   "execution_count": 39,
   "metadata": {
    "ExecuteTime": {
     "end_time": "2020-11-19T09:52:52.220410Z",
     "start_time": "2020-11-19T09:52:52.200423Z"
    }
   },
   "outputs": [],
   "source": [
    "# When grouping by agency\n",
    "agency_27_r = df_27_final_rides.groupby('agency_id').size().rename('2.7')\n",
    "agency_28_r = df_28_final_rides.groupby('operator_ref').size().rename('2.8')\n"
   ]
  },
  {
   "cell_type": "code",
   "execution_count": 40,
   "metadata": {
    "ExecuteTime": {
     "end_time": "2020-11-19T09:52:53.611019Z",
     "start_time": "2020-11-19T09:52:53.342632Z"
    }
   },
   "outputs": [
    {
     "data": {
      "image/png": "[encoded data removed]",
      "text/plain": [
       "<Figure size 432x288 with 1 Axes>"
      ]
     },
     "metadata": {
      "needs_background": "light"
     },
     "output_type": "display_data"
    }
   ],
   "source": [
    "agency_27_r.to_frame().join(agency_28_r).plot.bar(figsize=(6, 4))\n",
    "plt.title('Rides per agency 9/11/20')\n",
    "\n",
    "plt.show()"
   ]
  },
  {
   "cell_type": "code",
   "execution_count": 41,
   "metadata": {
    "ExecuteTime": {
     "end_time": "2020-11-19T09:52:56.461245Z",
     "start_time": "2020-11-19T09:52:56.438734Z"
    },
    "collapsed": true
   },
   "outputs": [
    {
     "data": {
      "text/plain": [
       "5    -0.014776\n",
       "3     0.096459\n",
       "6     0.133333\n",
       "32    0.142295\n",
       "7     0.144465\n",
       "18    0.210060\n",
       "15    0.230844\n",
       "14    0.238959\n",
       "25    0.267093\n",
       "16    0.295425\n",
       "23    0.306533\n",
       "4     0.429297\n",
       "31    0.431986\n",
       "8     0.497653\n",
       "24    0.780083\n",
       "2          NaN\n",
       "98         NaN\n",
       "dtype: float64"
      ]
     },
     "execution_count": 41,
     "metadata": {},
     "output_type": "execute_result"
    }
   ],
   "source": [
    "(1 - (agency_28_r / agency_27_r)).sort_values()"
   ]
  },
  {
   "cell_type": "code",
   "execution_count": 52,
   "metadata": {
    "ExecuteTime": {
     "end_time": "2020-11-19T10:58:54.392339Z",
     "start_time": "2020-11-19T10:58:54.353094Z"
    }
   },
   "outputs": [
    {
     "name": "stdout",
     "output_type": "stream",
     "text": [
      "Number of route ids with at least 1 ride of 10 points:\n",
      "\tSiri 2.7: 3546\n",
      "\tSiri 2.8: 1987\n",
      "\tMissing routes (appear in 2.7 but not in 2.8): 1627\n",
      "\tExtra routes (appear in 2.8 but not in 2.7): 68\n"
     ]
    }
   ],
   "source": [
    "routes_27 = set(df_27_final_rides[df_27_final_rides.points_cnt > 10]\n",
    "                .route_id.values)\n",
    "routes_28 = set(df_28_final_rides[df_28_final_rides.points_cnt > 10]\n",
    "                .line_ref.values)\n",
    "\n",
    "missing_routes_no28_yes27 = routes_27 - routes_28\n",
    "\n",
    "extra_routes_no27_yes28 = routes_28 - routes_27\n",
    "\n",
    "print(\"Number of route ids with at least 1 ride of 10 points:\",\n",
    "      \"Siri 2.7: {}\".format(len(routes_27)),\n",
    "      \"Siri 2.8: {}\".format(len(routes_28)),\n",
    "      \"Missing routes (appear in 2.7 but not in 2.8): {}\".format( \n",
    "      len(missing_routes_no28_yes27)),\n",
    "      \"Extra routes (appear in 2.8 but not in 2.7): {}\".format( \n",
    "      len(extra_routes_no27_yes28)),\n",
    "     sep='\\n\\t')"
   ]
  },
  {
   "cell_type": "code",
   "execution_count": 73,
   "metadata": {
    "ExecuteTime": {
     "end_time": "2020-11-19T16:07:49.106029Z",
     "start_time": "2020-11-19T16:07:49.060087Z"
    }
   },
   "outputs": [
    {
     "name": "stdout",
     "output_type": "stream",
     "text": [
      "Number of route ids:\n",
      "\tSiri 2.7: 4195\n",
      "\tSiri 2.8: 2775\n",
      "\tMissing routes (appear in 2.7 but not in 2.8): 1476\n",
      "\tExtra routes (appear in 2.8 but not in 2.7): 56\n",
      "2020-11-19 18:07:49.103444 json saved for all route ids\n"
     ]
    }
   ],
   "source": [
    "routes_27 = set(df_27_final_rides.route_id.values)\n",
    "routes_27 = {int(x) for x in routes_27} # cast for json serializability\n",
    "routes_28 = set(df_28_final_rides.line_ref.values)\n",
    "routes_28 = {int(x) for x in routes_28} # cast for json serializability\n",
    "\n",
    "missing_routes_no28_yes27 = routes_27 - routes_28\n",
    "\n",
    "extra_routes_no27_yes28 = routes_28 - routes_27\n",
    "\n",
    "print(\"Number of route ids:\",\n",
    "      \"Siri 2.7: {}\".format(len(routes_27)),\n",
    "      \"Siri 2.8: {}\".format(len(routes_28)),\n",
    "      \"Missing routes (appear in 2.7 but not in 2.8): {}\".format( \n",
    "      len(missing_routes_no28_yes27)),\n",
    "      \"Extra routes (appear in 2.8 but not in 2.7): {}\".format( \n",
    "      len(extra_routes_no27_yes28)),\n",
    "     sep='\\n\\t')\n",
    "\n",
    "\n",
    "routes_dict = {\n",
    "    'routes_2.7': sorted(list(routes_27)),\n",
    "    'routes_2.8': sorted(list(routes_28)),\n",
    "    'missing_routes_no2.8_yes2.7': sorted(list(missing_routes_no28_yes27)),\n",
    "    'extra_routes_no2.7_yes2.8': sorted(list(extra_routes_no27_yes28)),\n",
    "}\n",
    "\n",
    "with open('route_ids_siri_27_28.json', 'w') as f:\n",
    "    json.dump(routes_dict, f, indent=2)\n",
    "    print(dt.datetime.now(), \"json saved for all route ids\")"
   ]
  },
  {
   "cell_type": "code",
   "execution_count": 66,
   "metadata": {
    "ExecuteTime": {
     "end_time": "2020-11-19T15:52:34.609554Z",
     "start_time": "2020-11-19T15:52:34.406706Z"
    }
   },
   "outputs": [
    {
     "data": {
      "image/png": "[encoded data removed]",
      "text/plain": [
       "<Figure size 432x288 with 1 Axes>"
      ]
     },
     "metadata": {
      "needs_background": "light"
     },
     "output_type": "display_data"
    }
   ],
   "source": [
    "# missing routes per agency:\n",
    "df_27_final_rides[df_27_final_rides.route_id.isin(missing_routes_no28_yes27)]\\\n",
    "    .agency_id.value_counts().plot.bar()\n",
    "plt.title(\"Number of missing route_ids in 2.8 per agency\")\n",
    "plt.show()"
   ]
  },
  {
   "cell_type": "code",
   "execution_count": 72,
   "metadata": {
    "ExecuteTime": {
     "end_time": "2020-11-19T16:04:59.175084Z",
     "start_time": "2020-11-19T16:04:59.150580Z"
    }
   },
   "outputs": [
    {
     "data": {
      "text/html": [
       "<div>\n",
       "<style scoped>\n",
       "    .dataframe tbody tr th:only-of-type {\n",
       "        vertical-align: middle;\n",
       "    }\n",
       "\n",
       "    .dataframe tbody tr th {\n",
       "        vertical-align: top;\n",
       "    }\n",
       "\n",
       "    .dataframe thead th {\n",
       "        text-align: right;\n",
       "    }\n",
       "</style>\n",
       "<table border=\"1\" class=\"dataframe\">\n",
       "  <thead>\n",
       "    <tr style=\"text-align: right;\">\n",
       "      <th></th>\n",
       "      <th>N_rides_in_2.7</th>\n",
       "    </tr>\n",
       "    <tr>\n",
       "      <th>route_id</th>\n",
       "      <th></th>\n",
       "    </tr>\n",
       "  </thead>\n",
       "  <tbody>\n",
       "    <tr>\n",
       "      <td>26010</td>\n",
       "      <td>29</td>\n",
       "    </tr>\n",
       "    <tr>\n",
       "      <td>26008</td>\n",
       "      <td>25</td>\n",
       "    </tr>\n",
       "    <tr>\n",
       "      <td>16579</td>\n",
       "      <td>23</td>\n",
       "    </tr>\n",
       "    <tr>\n",
       "      <td>8211</td>\n",
       "      <td>16</td>\n",
       "    </tr>\n",
       "    <tr>\n",
       "      <td>2179</td>\n",
       "      <td>16</td>\n",
       "    </tr>\n",
       "    <tr>\n",
       "      <td>12176</td>\n",
       "      <td>16</td>\n",
       "    </tr>\n",
       "    <tr>\n",
       "      <td>23414</td>\n",
       "      <td>16</td>\n",
       "    </tr>\n",
       "    <tr>\n",
       "      <td>17577</td>\n",
       "      <td>16</td>\n",
       "    </tr>\n",
       "    <tr>\n",
       "      <td>11432</td>\n",
       "      <td>15</td>\n",
       "    </tr>\n",
       "    <tr>\n",
       "      <td>11431</td>\n",
       "      <td>15</td>\n",
       "    </tr>\n",
       "  </tbody>\n",
       "</table>\n",
       "</div>"
      ],
      "text/plain": [
       "          N_rides_in_2.7\n",
       "route_id                \n",
       "26010                 29\n",
       "26008                 25\n",
       "16579                 23\n",
       "8211                  16\n",
       "2179                  16\n",
       "12176                 16\n",
       "23414                 16\n",
       "17577                 16\n",
       "11432                 15\n",
       "11431                 15"
      ]
     },
     "execution_count": 72,
     "metadata": {},
     "output_type": "execute_result"
    }
   ],
   "source": [
    "# missing routes with most rides in 2.7:\n",
    "df_27_final_rides[df_27_final_rides.route_id.isin(missing_routes_no28_yes27)]\\\n",
    "    .groupby('route_id').size().sort_values(ascending=False).head(10).to_frame().rename(columns={0: 'N_rides_in_2.7'})\n"
   ]
  },
  {
   "cell_type": "code",
   "execution_count": 75,
   "metadata": {
    "ExecuteTime": {
     "end_time": "2020-11-19T16:10:50.546994Z",
     "start_time": "2020-11-19T16:10:50.504111Z"
    },
    "scrolled": true
   },
   "outputs": [
    {
     "data": {
      "text/html": [
       "<div>\n",
       "<style scoped>\n",
       "    .dataframe tbody tr th:only-of-type {\n",
       "        vertical-align: middle;\n",
       "    }\n",
       "\n",
       "    .dataframe tbody tr th {\n",
       "        vertical-align: top;\n",
       "    }\n",
       "\n",
       "    .dataframe thead th {\n",
       "        text-align: right;\n",
       "    }\n",
       "</style>\n",
       "<table border=\"1\" class=\"dataframe\">\n",
       "  <thead>\n",
       "    <tr style=\"text-align: right;\">\n",
       "      <th></th>\n",
       "      <th>planned_start_dt</th>\n",
       "      <th>predicted_end_dt</th>\n",
       "      <th>dt_recorded</th>\n",
       "      <th>timestamp</th>\n",
       "      <th>agency_id</th>\n",
       "      <th>route_id</th>\n",
       "      <th>route_short_name</th>\n",
       "      <th>service_id</th>\n",
       "      <th>bus_id</th>\n",
       "      <th>lat</th>\n",
       "      <th>lon</th>\n",
       "      <th>stop_point_ref</th>\n",
       "      <th>date</th>\n",
       "      <th>num_duplicates</th>\n",
       "    </tr>\n",
       "  </thead>\n",
       "  <tbody>\n",
       "    <tr>\n",
       "      <td>1180572</td>\n",
       "      <td>2020-11-09 14:00:00</td>\n",
       "      <td>2020-11-09 14:31:00</td>\n",
       "      <td>2020-11-09 14:00:45</td>\n",
       "      <td>2020-11-09 14:01:41</td>\n",
       "      <td>98</td>\n",
       "      <td>26010</td>\n",
       "      <td>4</td>\n",
       "      <td>50836449</td>\n",
       "      <td>7416126</td>\n",
       "      <td>32.096195</td>\n",
       "      <td>34.776039</td>\n",
       "      <td>44281</td>\n",
       "      <td>2020-11-09</td>\n",
       "      <td>1</td>\n",
       "    </tr>\n",
       "    <tr>\n",
       "      <td>1185215</td>\n",
       "      <td>2020-11-09 14:00:00</td>\n",
       "      <td>2020-11-09 14:31:00</td>\n",
       "      <td>2020-11-09 14:02:00</td>\n",
       "      <td>2020-11-09 14:02:41</td>\n",
       "      <td>98</td>\n",
       "      <td>26010</td>\n",
       "      <td>4</td>\n",
       "      <td>50836449</td>\n",
       "      <td>7416126</td>\n",
       "      <td>32.094944</td>\n",
       "      <td>34.775467</td>\n",
       "      <td>44281</td>\n",
       "      <td>2020-11-09</td>\n",
       "      <td>1</td>\n",
       "    </tr>\n",
       "    <tr>\n",
       "      <td>1189767</td>\n",
       "      <td>2020-11-09 14:00:00</td>\n",
       "      <td>2020-11-09 14:31:00</td>\n",
       "      <td>2020-11-09 14:02:59</td>\n",
       "      <td>2020-11-09 14:03:49</td>\n",
       "      <td>98</td>\n",
       "      <td>26010</td>\n",
       "      <td>4</td>\n",
       "      <td>50836449</td>\n",
       "      <td>7416126</td>\n",
       "      <td>32.092064</td>\n",
       "      <td>34.774601</td>\n",
       "      <td>44281</td>\n",
       "      <td>2020-11-09</td>\n",
       "      <td>1</td>\n",
       "    </tr>\n",
       "    <tr>\n",
       "      <td>1194258</td>\n",
       "      <td>2020-11-09 14:00:00</td>\n",
       "      <td>2020-11-09 14:30:00</td>\n",
       "      <td>2020-11-09 14:04:48</td>\n",
       "      <td>2020-11-09 14:05:00</td>\n",
       "      <td>98</td>\n",
       "      <td>26010</td>\n",
       "      <td>4</td>\n",
       "      <td>50836449</td>\n",
       "      <td>7416126</td>\n",
       "      <td>32.089397</td>\n",
       "      <td>34.773796</td>\n",
       "      <td>44281</td>\n",
       "      <td>2020-11-09</td>\n",
       "      <td>1</td>\n",
       "    </tr>\n",
       "    <tr>\n",
       "      <td>1194257</td>\n",
       "      <td>2020-11-09 13:45:00</td>\n",
       "      <td>2020-11-09 14:11:00</td>\n",
       "      <td>2020-11-09 14:04:50</td>\n",
       "      <td>2020-11-09 14:05:00</td>\n",
       "      <td>98</td>\n",
       "      <td>26010</td>\n",
       "      <td>4</td>\n",
       "      <td>0</td>\n",
       "      <td>8547326</td>\n",
       "      <td>32.060654</td>\n",
       "      <td>34.774925</td>\n",
       "      <td>44281</td>\n",
       "      <td>2020-11-09</td>\n",
       "      <td>1</td>\n",
       "    </tr>\n",
       "    <tr>\n",
       "      <td>...</td>\n",
       "      <td>...</td>\n",
       "      <td>...</td>\n",
       "      <td>...</td>\n",
       "      <td>...</td>\n",
       "      <td>...</td>\n",
       "      <td>...</td>\n",
       "      <td>...</td>\n",
       "      <td>...</td>\n",
       "      <td>...</td>\n",
       "      <td>...</td>\n",
       "      <td>...</td>\n",
       "      <td>...</td>\n",
       "      <td>...</td>\n",
       "      <td>...</td>\n",
       "    </tr>\n",
       "    <tr>\n",
       "      <td>1981074</td>\n",
       "      <td>2020-11-09 22:16:00</td>\n",
       "      <td>2020-11-09 22:39:00</td>\n",
       "      <td>2020-11-09 22:32:00</td>\n",
       "      <td>2020-11-09 22:32:13</td>\n",
       "      <td>98</td>\n",
       "      <td>26010</td>\n",
       "      <td>4</td>\n",
       "      <td>0</td>\n",
       "      <td>8959926</td>\n",
       "      <td>32.061359</td>\n",
       "      <td>34.773811</td>\n",
       "      <td>44281</td>\n",
       "      <td>2020-11-09</td>\n",
       "      <td>1</td>\n",
       "    </tr>\n",
       "    <tr>\n",
       "      <td>1983075</td>\n",
       "      <td>2020-11-09 22:16:00</td>\n",
       "      <td>2020-11-09 22:39:00</td>\n",
       "      <td>2020-11-09 22:32:59</td>\n",
       "      <td>2020-11-09 22:33:13</td>\n",
       "      <td>98</td>\n",
       "      <td>26010</td>\n",
       "      <td>4</td>\n",
       "      <td>0</td>\n",
       "      <td>8959926</td>\n",
       "      <td>32.060749</td>\n",
       "      <td>34.774128</td>\n",
       "      <td>44281</td>\n",
       "      <td>2020-11-09</td>\n",
       "      <td>1</td>\n",
       "    </tr>\n",
       "    <tr>\n",
       "      <td>1984899</td>\n",
       "      <td>2020-11-09 22:16:00</td>\n",
       "      <td>2020-11-09 22:39:00</td>\n",
       "      <td>2020-11-09 22:33:57</td>\n",
       "      <td>2020-11-09 22:34:13</td>\n",
       "      <td>98</td>\n",
       "      <td>26010</td>\n",
       "      <td>4</td>\n",
       "      <td>0</td>\n",
       "      <td>8959926</td>\n",
       "      <td>32.060642</td>\n",
       "      <td>34.776756</td>\n",
       "      <td>44281</td>\n",
       "      <td>2020-11-09</td>\n",
       "      <td>1</td>\n",
       "    </tr>\n",
       "    <tr>\n",
       "      <td>1986781</td>\n",
       "      <td>2020-11-09 22:16:00</td>\n",
       "      <td>2020-11-09 22:40:00</td>\n",
       "      <td>2020-11-09 22:34:58</td>\n",
       "      <td>2020-11-09 22:35:13</td>\n",
       "      <td>98</td>\n",
       "      <td>26010</td>\n",
       "      <td>4</td>\n",
       "      <td>0</td>\n",
       "      <td>8959926</td>\n",
       "      <td>32.058125</td>\n",
       "      <td>34.777122</td>\n",
       "      <td>44281</td>\n",
       "      <td>2020-11-09</td>\n",
       "      <td>1</td>\n",
       "    </tr>\n",
       "    <tr>\n",
       "      <td>1988637</td>\n",
       "      <td>2020-11-09 22:16:00</td>\n",
       "      <td>2020-11-09 22:40:00</td>\n",
       "      <td>2020-11-09 22:35:59</td>\n",
       "      <td>2020-11-09 22:36:13</td>\n",
       "      <td>98</td>\n",
       "      <td>26010</td>\n",
       "      <td>4</td>\n",
       "      <td>0</td>\n",
       "      <td>8959926</td>\n",
       "      <td>32.057274</td>\n",
       "      <td>34.778713</td>\n",
       "      <td>44281</td>\n",
       "      <td>2020-11-09</td>\n",
       "      <td>1</td>\n",
       "    </tr>\n",
       "  </tbody>\n",
       "</table>\n",
       "<p>656 rows × 14 columns</p>\n",
       "</div>"
      ],
      "text/plain": [
       "           planned_start_dt    predicted_end_dt         dt_recorded  \\\n",
       "1180572 2020-11-09 14:00:00 2020-11-09 14:31:00 2020-11-09 14:00:45   \n",
       "1185215 2020-11-09 14:00:00 2020-11-09 14:31:00 2020-11-09 14:02:00   \n",
       "1189767 2020-11-09 14:00:00 2020-11-09 14:31:00 2020-11-09 14:02:59   \n",
       "1194258 2020-11-09 14:00:00 2020-11-09 14:30:00 2020-11-09 14:04:48   \n",
       "1194257 2020-11-09 13:45:00 2020-11-09 14:11:00 2020-11-09 14:04:50   \n",
       "...                     ...                 ...                 ...   \n",
       "1981074 2020-11-09 22:16:00 2020-11-09 22:39:00 2020-11-09 22:32:00   \n",
       "1983075 2020-11-09 22:16:00 2020-11-09 22:39:00 2020-11-09 22:32:59   \n",
       "1984899 2020-11-09 22:16:00 2020-11-09 22:39:00 2020-11-09 22:33:57   \n",
       "1986781 2020-11-09 22:16:00 2020-11-09 22:40:00 2020-11-09 22:34:58   \n",
       "1988637 2020-11-09 22:16:00 2020-11-09 22:40:00 2020-11-09 22:35:59   \n",
       "\n",
       "                  timestamp  agency_id  route_id route_short_name  service_id  \\\n",
       "1180572 2020-11-09 14:01:41         98     26010                4    50836449   \n",
       "1185215 2020-11-09 14:02:41         98     26010                4    50836449   \n",
       "1189767 2020-11-09 14:03:49         98     26010                4    50836449   \n",
       "1194258 2020-11-09 14:05:00         98     26010                4    50836449   \n",
       "1194257 2020-11-09 14:05:00         98     26010                4           0   \n",
       "...                     ...        ...       ...              ...         ...   \n",
       "1981074 2020-11-09 22:32:13         98     26010                4           0   \n",
       "1983075 2020-11-09 22:33:13         98     26010                4           0   \n",
       "1984899 2020-11-09 22:34:13         98     26010                4           0   \n",
       "1986781 2020-11-09 22:35:13         98     26010                4           0   \n",
       "1988637 2020-11-09 22:36:13         98     26010                4           0   \n",
       "\n",
       "          bus_id        lat        lon  stop_point_ref        date  \\\n",
       "1180572  7416126  32.096195  34.776039           44281  2020-11-09   \n",
       "1185215  7416126  32.094944  34.775467           44281  2020-11-09   \n",
       "1189767  7416126  32.092064  34.774601           44281  2020-11-09   \n",
       "1194258  7416126  32.089397  34.773796           44281  2020-11-09   \n",
       "1194257  8547326  32.060654  34.774925           44281  2020-11-09   \n",
       "...          ...        ...        ...             ...         ...   \n",
       "1981074  8959926  32.061359  34.773811           44281  2020-11-09   \n",
       "1983075  8959926  32.060749  34.774128           44281  2020-11-09   \n",
       "1984899  8959926  32.060642  34.776756           44281  2020-11-09   \n",
       "1986781  8959926  32.058125  34.777122           44281  2020-11-09   \n",
       "1988637  8959926  32.057274  34.778713           44281  2020-11-09   \n",
       "\n",
       "         num_duplicates  \n",
       "1180572               1  \n",
       "1185215               1  \n",
       "1189767               1  \n",
       "1194258               1  \n",
       "1194257               1  \n",
       "...                 ...  \n",
       "1981074               1  \n",
       "1983075               1  \n",
       "1984899               1  \n",
       "1986781               1  \n",
       "1988637               1  \n",
       "\n",
       "[656 rows x 14 columns]"
      ]
     },
     "execution_count": 75,
     "metadata": {},
     "output_type": "execute_result"
    }
   ],
   "source": [
    "df_27_final_dedup[df_27_final_dedup.route_id == 26010].sort_values('dt_recorded')"
   ]
  },
  {
   "cell_type": "code",
   "execution_count": 57,
   "metadata": {
    "ExecuteTime": {
     "end_time": "2020-11-17T20:20:15.216427Z",
     "start_time": "2020-11-17T20:20:15.187174Z"
    }
   },
   "outputs": [],
   "source": [
    "# Do the missing rides belong to the missing routes?\n",
    "agency_27_r2 = df_27_final_rides[\n",
    "    ~df_27_final_rides.route_id.isin(missing_routes)]\\\n",
    "    .groupby('agency_id').size().rename('2.7')\n"
   ]
  },
  {
   "cell_type": "code",
   "execution_count": 58,
   "metadata": {
    "ExecuteTime": {
     "end_time": "2020-11-17T20:20:16.956497Z",
     "start_time": "2020-11-17T20:20:16.643765Z"
    }
   },
   "outputs": [
    {
     "data": {
      "image/png": "[encoded data removed]",
      "text/plain": [
       "<Figure size 432x288 with 1 Axes>"
      ]
     },
     "metadata": {
      "needs_background": "light"
     },
     "output_type": "display_data"
    }
   ],
   "source": [
    "agency_27_r2.to_frame().join(agency_28_r).plot.bar(figsize=(6, 4))\n",
    "plt.title('Rides per agency without \"missing routes\" 9/11/20')\n",
    "\n",
    "plt.show()"
   ]
  },
  {
   "cell_type": "code",
   "execution_count": 70,
   "metadata": {
    "ExecuteTime": {
     "end_time": "2020-11-17T20:31:37.304752Z",
     "start_time": "2020-11-17T20:31:36.959595Z"
    }
   },
   "outputs": [
    {
     "data": {
      "image/png": "[encoded data removed]",
      "text/plain": [
       "<Figure size 432x288 with 1 Axes>"
      ]
     },
     "metadata": {
      "needs_background": "light"
     },
     "output_type": "display_data"
    }
   ],
   "source": [
    "# number of points per ride:\n",
    "fig, ax = plt.subplots(1,1)\n",
    "\n",
    "df_27_final_rides.points_cnt.hist(bins=20, ax=ax, alpha=0.5, \n",
    "                                  label='2.7', range=(0, 150))\n",
    "df_28_final_rides.points_cnt.hist(bins=20, ax=ax, alpha=0.5, \n",
    "                                  label='2.8', range=(0, 150))\n",
    "\n",
    "plt.legend()\n",
    "plt.grid(False)\n",
    "plt.title('Histogram - Number of points per ride')\n",
    "plt.show()"
   ]
  }
 ],
 "metadata": {
  "kernelspec": {
   "display_name": "Python (OpenBus20190909)",
   "language": "python",
   "name": "openbus20190909"
  },
  "language_info": {
   "codemirror_mode": {
    "name": "ipython",
    "version": 3
   },
   "file_extension": ".py",
   "mimetype": "text/x-python",
   "name": "python",
   "nbconvert_exporter": "python",
   "pygments_lexer": "ipython3",
   "version": "3.7.4"
  },
  "toc": {
   "base_numbering": 1,
   "nav_menu": {},
   "number_sections": true,
   "sideBar": true,
   "skip_h1_title": false,
   "title_cell": "Table of Contents",
   "title_sidebar": "Contents",
   "toc_cell": false,
   "toc_position": {},
   "toc_section_display": true,
   "toc_window_display": false
  }
 },
 "nbformat": 4,
 "nbformat_minor": 4
}
